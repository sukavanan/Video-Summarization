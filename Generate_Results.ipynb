{
  "nbformat": 4,
  "nbformat_minor": 0,
  "metadata": {
    "kernelspec": {
      "display_name": "Python 3",
      "language": "python",
      "name": "python3"
    },
    "language_info": {
      "codemirror_mode": {
        "name": "ipython",
        "version": 3
      },
      "file_extension": ".py",
      "mimetype": "text/x-python",
      "name": "python",
      "nbconvert_exporter": "python",
      "pygments_lexer": "ipython3",
      "version": "3.7.6"
    },
    "colab": {
      "name": "Generate Results.ipynb",
      "provenance": [],
      "collapsed_sections": []
    },
    "accelerator": "GPU",
    "widgets": {
      "application/vnd.jupyter.widget-state+json": {
        "db3ddb3dc7b14fdea6bec17ed60ea3d2": {
          "model_module": "@jupyter-widgets/controls",
          "model_name": "HBoxModel",
          "model_module_version": "1.5.0",
          "state": {
            "_view_name": "HBoxView",
            "_dom_classes": [],
            "_model_name": "HBoxModel",
            "_view_module": "@jupyter-widgets/controls",
            "_model_module_version": "1.5.0",
            "_view_count": null,
            "_view_module_version": "1.5.0",
            "box_style": "",
            "layout": "IPY_MODEL_467a11b4d04b493a8c41dbe31813ddba",
            "_model_module": "@jupyter-widgets/controls",
            "children": [
              "IPY_MODEL_7530f0b0f2e441ebb9adf032ee2e07ae",
              "IPY_MODEL_74e5c06e88b445c99fe5bfb1630d4db6",
              "IPY_MODEL_132de16908ba43baae48f960e0b90e83"
            ]
          }
        },
        "467a11b4d04b493a8c41dbe31813ddba": {
          "model_module": "@jupyter-widgets/base",
          "model_name": "LayoutModel",
          "model_module_version": "1.2.0",
          "state": {
            "_view_name": "LayoutView",
            "grid_template_rows": null,
            "right": null,
            "justify_content": null,
            "_view_module": "@jupyter-widgets/base",
            "overflow": null,
            "_model_module_version": "1.2.0",
            "_view_count": null,
            "flex_flow": null,
            "width": null,
            "min_width": null,
            "border": null,
            "align_items": null,
            "bottom": null,
            "_model_module": "@jupyter-widgets/base",
            "top": null,
            "grid_column": null,
            "overflow_y": null,
            "overflow_x": null,
            "grid_auto_flow": null,
            "grid_area": null,
            "grid_template_columns": null,
            "flex": null,
            "_model_name": "LayoutModel",
            "justify_items": null,
            "grid_row": null,
            "max_height": null,
            "align_content": null,
            "visibility": null,
            "align_self": null,
            "height": null,
            "min_height": null,
            "padding": null,
            "grid_auto_rows": null,
            "grid_gap": null,
            "max_width": null,
            "order": null,
            "_view_module_version": "1.2.0",
            "grid_template_areas": null,
            "object_position": null,
            "object_fit": null,
            "grid_auto_columns": null,
            "margin": null,
            "display": null,
            "left": null
          }
        },
        "7530f0b0f2e441ebb9adf032ee2e07ae": {
          "model_module": "@jupyter-widgets/controls",
          "model_name": "HTMLModel",
          "model_module_version": "1.5.0",
          "state": {
            "_view_name": "HTMLView",
            "style": "IPY_MODEL_f72133cab65744bf81e55b6a0091bb80",
            "_dom_classes": [],
            "description": "",
            "_model_name": "HTMLModel",
            "placeholder": "​",
            "_view_module": "@jupyter-widgets/controls",
            "_model_module_version": "1.5.0",
            "value": "100%",
            "_view_count": null,
            "_view_module_version": "1.5.0",
            "description_tooltip": null,
            "_model_module": "@jupyter-widgets/controls",
            "layout": "IPY_MODEL_d2d3cc69b71041dc85645aad4854567b"
          }
        },
        "74e5c06e88b445c99fe5bfb1630d4db6": {
          "model_module": "@jupyter-widgets/controls",
          "model_name": "FloatProgressModel",
          "model_module_version": "1.5.0",
          "state": {
            "_view_name": "ProgressView",
            "style": "IPY_MODEL_c3858147e08b40c891215f389fb1621d",
            "_dom_classes": [],
            "description": "",
            "_model_name": "FloatProgressModel",
            "bar_style": "success",
            "max": 5,
            "_view_module": "@jupyter-widgets/controls",
            "_model_module_version": "1.5.0",
            "value": 5,
            "_view_count": null,
            "_view_module_version": "1.5.0",
            "orientation": "horizontal",
            "min": 0,
            "description_tooltip": null,
            "_model_module": "@jupyter-widgets/controls",
            "layout": "IPY_MODEL_749d8ac204f74825b8b93ea46d5922e6"
          }
        },
        "132de16908ba43baae48f960e0b90e83": {
          "model_module": "@jupyter-widgets/controls",
          "model_name": "HTMLModel",
          "model_module_version": "1.5.0",
          "state": {
            "_view_name": "HTMLView",
            "style": "IPY_MODEL_1015ac7e95eb45d28a2a4e1650186fdc",
            "_dom_classes": [],
            "description": "",
            "_model_name": "HTMLModel",
            "placeholder": "​",
            "_view_module": "@jupyter-widgets/controls",
            "_model_module_version": "1.5.0",
            "value": " 5/5 [00:09&lt;00:00,  1.73s/it]",
            "_view_count": null,
            "_view_module_version": "1.5.0",
            "description_tooltip": null,
            "_model_module": "@jupyter-widgets/controls",
            "layout": "IPY_MODEL_e57f7a48c4da44dc9d2e6a2fbf2b8932"
          }
        },
        "f72133cab65744bf81e55b6a0091bb80": {
          "model_module": "@jupyter-widgets/controls",
          "model_name": "DescriptionStyleModel",
          "model_module_version": "1.5.0",
          "state": {
            "_view_name": "StyleView",
            "_model_name": "DescriptionStyleModel",
            "description_width": "",
            "_view_module": "@jupyter-widgets/base",
            "_model_module_version": "1.5.0",
            "_view_count": null,
            "_view_module_version": "1.2.0",
            "_model_module": "@jupyter-widgets/controls"
          }
        },
        "d2d3cc69b71041dc85645aad4854567b": {
          "model_module": "@jupyter-widgets/base",
          "model_name": "LayoutModel",
          "model_module_version": "1.2.0",
          "state": {
            "_view_name": "LayoutView",
            "grid_template_rows": null,
            "right": null,
            "justify_content": null,
            "_view_module": "@jupyter-widgets/base",
            "overflow": null,
            "_model_module_version": "1.2.0",
            "_view_count": null,
            "flex_flow": null,
            "width": null,
            "min_width": null,
            "border": null,
            "align_items": null,
            "bottom": null,
            "_model_module": "@jupyter-widgets/base",
            "top": null,
            "grid_column": null,
            "overflow_y": null,
            "overflow_x": null,
            "grid_auto_flow": null,
            "grid_area": null,
            "grid_template_columns": null,
            "flex": null,
            "_model_name": "LayoutModel",
            "justify_items": null,
            "grid_row": null,
            "max_height": null,
            "align_content": null,
            "visibility": null,
            "align_self": null,
            "height": null,
            "min_height": null,
            "padding": null,
            "grid_auto_rows": null,
            "grid_gap": null,
            "max_width": null,
            "order": null,
            "_view_module_version": "1.2.0",
            "grid_template_areas": null,
            "object_position": null,
            "object_fit": null,
            "grid_auto_columns": null,
            "margin": null,
            "display": null,
            "left": null
          }
        },
        "c3858147e08b40c891215f389fb1621d": {
          "model_module": "@jupyter-widgets/controls",
          "model_name": "ProgressStyleModel",
          "model_module_version": "1.5.0",
          "state": {
            "_view_name": "StyleView",
            "_model_name": "ProgressStyleModel",
            "description_width": "",
            "_view_module": "@jupyter-widgets/base",
            "_model_module_version": "1.5.0",
            "_view_count": null,
            "_view_module_version": "1.2.0",
            "bar_color": null,
            "_model_module": "@jupyter-widgets/controls"
          }
        },
        "749d8ac204f74825b8b93ea46d5922e6": {
          "model_module": "@jupyter-widgets/base",
          "model_name": "LayoutModel",
          "model_module_version": "1.2.0",
          "state": {
            "_view_name": "LayoutView",
            "grid_template_rows": null,
            "right": null,
            "justify_content": null,
            "_view_module": "@jupyter-widgets/base",
            "overflow": null,
            "_model_module_version": "1.2.0",
            "_view_count": null,
            "flex_flow": null,
            "width": null,
            "min_width": null,
            "border": null,
            "align_items": null,
            "bottom": null,
            "_model_module": "@jupyter-widgets/base",
            "top": null,
            "grid_column": null,
            "overflow_y": null,
            "overflow_x": null,
            "grid_auto_flow": null,
            "grid_area": null,
            "grid_template_columns": null,
            "flex": null,
            "_model_name": "LayoutModel",
            "justify_items": null,
            "grid_row": null,
            "max_height": null,
            "align_content": null,
            "visibility": null,
            "align_self": null,
            "height": null,
            "min_height": null,
            "padding": null,
            "grid_auto_rows": null,
            "grid_gap": null,
            "max_width": null,
            "order": null,
            "_view_module_version": "1.2.0",
            "grid_template_areas": null,
            "object_position": null,
            "object_fit": null,
            "grid_auto_columns": null,
            "margin": null,
            "display": null,
            "left": null
          }
        },
        "1015ac7e95eb45d28a2a4e1650186fdc": {
          "model_module": "@jupyter-widgets/controls",
          "model_name": "DescriptionStyleModel",
          "model_module_version": "1.5.0",
          "state": {
            "_view_name": "StyleView",
            "_model_name": "DescriptionStyleModel",
            "description_width": "",
            "_view_module": "@jupyter-widgets/base",
            "_model_module_version": "1.5.0",
            "_view_count": null,
            "_view_module_version": "1.2.0",
            "_model_module": "@jupyter-widgets/controls"
          }
        },
        "e57f7a48c4da44dc9d2e6a2fbf2b8932": {
          "model_module": "@jupyter-widgets/base",
          "model_name": "LayoutModel",
          "model_module_version": "1.2.0",
          "state": {
            "_view_name": "LayoutView",
            "grid_template_rows": null,
            "right": null,
            "justify_content": null,
            "_view_module": "@jupyter-widgets/base",
            "overflow": null,
            "_model_module_version": "1.2.0",
            "_view_count": null,
            "flex_flow": null,
            "width": null,
            "min_width": null,
            "border": null,
            "align_items": null,
            "bottom": null,
            "_model_module": "@jupyter-widgets/base",
            "top": null,
            "grid_column": null,
            "overflow_y": null,
            "overflow_x": null,
            "grid_auto_flow": null,
            "grid_area": null,
            "grid_template_columns": null,
            "flex": null,
            "_model_name": "LayoutModel",
            "justify_items": null,
            "grid_row": null,
            "max_height": null,
            "align_content": null,
            "visibility": null,
            "align_self": null,
            "height": null,
            "min_height": null,
            "padding": null,
            "grid_auto_rows": null,
            "grid_gap": null,
            "max_width": null,
            "order": null,
            "_view_module_version": "1.2.0",
            "grid_template_areas": null,
            "object_position": null,
            "object_fit": null,
            "grid_auto_columns": null,
            "margin": null,
            "display": null,
            "left": null
          }
        }
      }
    }
  },
  "cells": [
    {
      "cell_type": "code",
      "metadata": {
        "colab": {
          "base_uri": "https://localhost:8080/"
        },
        "id": "cuaFL8_ZmQLQ",
        "outputId": "8d2cdfb2-50e7-48be-cc75-dd1c8a288a1c"
      },
      "source": [
        "from google.colab import drive\n",
        "\n",
        "drive.mount('/content/gdrive')"
      ],
      "execution_count": 1,
      "outputs": [
        {
          "output_type": "stream",
          "name": "stdout",
          "text": [
            "Mounted at /content/gdrive\n"
          ]
        }
      ]
    },
    {
      "cell_type": "code",
      "metadata": {
        "colab": {
          "base_uri": "https://localhost:8080/"
        },
        "id": "MoYyFkkuicWq",
        "outputId": "2330fd1e-8261-42c9-ab8f-4f5a8f604758"
      },
      "source": [
        "!cd \"/content/gdrive/MyDrive/Colab Notebooks/Code/src\" && pip install -r requirements.txt"
      ],
      "execution_count": 2,
      "outputs": [
        {
          "output_type": "stream",
          "name": "stdout",
          "text": [
            "Collecting nltk==3.4.5\n",
            "  Downloading nltk-3.4.5.zip (1.5 MB)\n",
            "\u001b[?25l\r\u001b[K     |▎                               | 10 kB 24.2 MB/s eta 0:00:01\r\u001b[K     |▌                               | 20 kB 19.0 MB/s eta 0:00:01\r\u001b[K     |▊                               | 30 kB 15.8 MB/s eta 0:00:01\r\u001b[K     |█                               | 40 kB 13.9 MB/s eta 0:00:01\r\u001b[K     |█▏                              | 51 kB 5.4 MB/s eta 0:00:01\r\u001b[K     |█▍                              | 61 kB 5.9 MB/s eta 0:00:01\r\u001b[K     |█▋                              | 71 kB 5.5 MB/s eta 0:00:01\r\u001b[K     |█▉                              | 81 kB 6.1 MB/s eta 0:00:01\r\u001b[K     |██                              | 92 kB 6.1 MB/s eta 0:00:01\r\u001b[K     |██▎                             | 102 kB 5.3 MB/s eta 0:00:01\r\u001b[K     |██▌                             | 112 kB 5.3 MB/s eta 0:00:01\r\u001b[K     |██▊                             | 122 kB 5.3 MB/s eta 0:00:01\r\u001b[K     |███                             | 133 kB 5.3 MB/s eta 0:00:01\r\u001b[K     |███▏                            | 143 kB 5.3 MB/s eta 0:00:01\r\u001b[K     |███▍                            | 153 kB 5.3 MB/s eta 0:00:01\r\u001b[K     |███▋                            | 163 kB 5.3 MB/s eta 0:00:01\r\u001b[K     |███▉                            | 174 kB 5.3 MB/s eta 0:00:01\r\u001b[K     |████                            | 184 kB 5.3 MB/s eta 0:00:01\r\u001b[K     |████▎                           | 194 kB 5.3 MB/s eta 0:00:01\r\u001b[K     |████▌                           | 204 kB 5.3 MB/s eta 0:00:01\r\u001b[K     |████▊                           | 215 kB 5.3 MB/s eta 0:00:01\r\u001b[K     |█████                           | 225 kB 5.3 MB/s eta 0:00:01\r\u001b[K     |█████▏                          | 235 kB 5.3 MB/s eta 0:00:01\r\u001b[K     |█████▍                          | 245 kB 5.3 MB/s eta 0:00:01\r\u001b[K     |█████▋                          | 256 kB 5.3 MB/s eta 0:00:01\r\u001b[K     |█████▉                          | 266 kB 5.3 MB/s eta 0:00:01\r\u001b[K     |██████                          | 276 kB 5.3 MB/s eta 0:00:01\r\u001b[K     |██████▎                         | 286 kB 5.3 MB/s eta 0:00:01\r\u001b[K     |██████▌                         | 296 kB 5.3 MB/s eta 0:00:01\r\u001b[K     |██████▊                         | 307 kB 5.3 MB/s eta 0:00:01\r\u001b[K     |███████                         | 317 kB 5.3 MB/s eta 0:00:01\r\u001b[K     |███████▎                        | 327 kB 5.3 MB/s eta 0:00:01\r\u001b[K     |███████▌                        | 337 kB 5.3 MB/s eta 0:00:01\r\u001b[K     |███████▊                        | 348 kB 5.3 MB/s eta 0:00:01\r\u001b[K     |████████                        | 358 kB 5.3 MB/s eta 0:00:01\r\u001b[K     |████████▏                       | 368 kB 5.3 MB/s eta 0:00:01\r\u001b[K     |████████▍                       | 378 kB 5.3 MB/s eta 0:00:01\r\u001b[K     |████████▋                       | 389 kB 5.3 MB/s eta 0:00:01\r\u001b[K     |████████▉                       | 399 kB 5.3 MB/s eta 0:00:01\r\u001b[K     |█████████                       | 409 kB 5.3 MB/s eta 0:00:01\r\u001b[K     |█████████▎                      | 419 kB 5.3 MB/s eta 0:00:01\r\u001b[K     |█████████▌                      | 430 kB 5.3 MB/s eta 0:00:01\r\u001b[K     |█████████▊                      | 440 kB 5.3 MB/s eta 0:00:01\r\u001b[K     |██████████                      | 450 kB 5.3 MB/s eta 0:00:01\r\u001b[K     |██████████▏                     | 460 kB 5.3 MB/s eta 0:00:01\r\u001b[K     |██████████▍                     | 471 kB 5.3 MB/s eta 0:00:01\r\u001b[K     |██████████▋                     | 481 kB 5.3 MB/s eta 0:00:01\r\u001b[K     |██████████▉                     | 491 kB 5.3 MB/s eta 0:00:01\r\u001b[K     |███████████                     | 501 kB 5.3 MB/s eta 0:00:01\r\u001b[K     |███████████▎                    | 512 kB 5.3 MB/s eta 0:00:01\r\u001b[K     |███████████▌                    | 522 kB 5.3 MB/s eta 0:00:01\r\u001b[K     |███████████▊                    | 532 kB 5.3 MB/s eta 0:00:01\r\u001b[K     |████████████                    | 542 kB 5.3 MB/s eta 0:00:01\r\u001b[K     |████████████▏                   | 552 kB 5.3 MB/s eta 0:00:01\r\u001b[K     |████████████▍                   | 563 kB 5.3 MB/s eta 0:00:01\r\u001b[K     |████████████▋                   | 573 kB 5.3 MB/s eta 0:00:01\r\u001b[K     |████████████▉                   | 583 kB 5.3 MB/s eta 0:00:01\r\u001b[K     |█████████████                   | 593 kB 5.3 MB/s eta 0:00:01\r\u001b[K     |█████████████▎                  | 604 kB 5.3 MB/s eta 0:00:01\r\u001b[K     |█████████████▌                  | 614 kB 5.3 MB/s eta 0:00:01\r\u001b[K     |█████████████▉                  | 624 kB 5.3 MB/s eta 0:00:01\r\u001b[K     |██████████████                  | 634 kB 5.3 MB/s eta 0:00:01\r\u001b[K     |██████████████▎                 | 645 kB 5.3 MB/s eta 0:00:01\r\u001b[K     |██████████████▌                 | 655 kB 5.3 MB/s eta 0:00:01\r\u001b[K     |██████████████▊                 | 665 kB 5.3 MB/s eta 0:00:01\r\u001b[K     |███████████████                 | 675 kB 5.3 MB/s eta 0:00:01\r\u001b[K     |███████████████▏                | 686 kB 5.3 MB/s eta 0:00:01\r\u001b[K     |███████████████▍                | 696 kB 5.3 MB/s eta 0:00:01\r\u001b[K     |███████████████▋                | 706 kB 5.3 MB/s eta 0:00:01\r\u001b[K     |███████████████▉                | 716 kB 5.3 MB/s eta 0:00:01\r\u001b[K     |████████████████                | 727 kB 5.3 MB/s eta 0:00:01\r\u001b[K     |████████████████▎               | 737 kB 5.3 MB/s eta 0:00:01\r\u001b[K     |████████████████▌               | 747 kB 5.3 MB/s eta 0:00:01\r\u001b[K     |████████████████▊               | 757 kB 5.3 MB/s eta 0:00:01\r\u001b[K     |█████████████████               | 768 kB 5.3 MB/s eta 0:00:01\r\u001b[K     |█████████████████▏              | 778 kB 5.3 MB/s eta 0:00:01\r\u001b[K     |█████████████████▍              | 788 kB 5.3 MB/s eta 0:00:01\r\u001b[K     |█████████████████▋              | 798 kB 5.3 MB/s eta 0:00:01\r\u001b[K     |█████████████████▉              | 808 kB 5.3 MB/s eta 0:00:01\r\u001b[K     |██████████████████              | 819 kB 5.3 MB/s eta 0:00:01\r\u001b[K     |██████████████████▎             | 829 kB 5.3 MB/s eta 0:00:01\r\u001b[K     |██████████████████▌             | 839 kB 5.3 MB/s eta 0:00:01\r\u001b[K     |██████████████████▊             | 849 kB 5.3 MB/s eta 0:00:01\r\u001b[K     |███████████████████             | 860 kB 5.3 MB/s eta 0:00:01\r\u001b[K     |███████████████████▏            | 870 kB 5.3 MB/s eta 0:00:01\r\u001b[K     |███████████████████▍            | 880 kB 5.3 MB/s eta 0:00:01\r\u001b[K     |███████████████████▋            | 890 kB 5.3 MB/s eta 0:00:01\r\u001b[K     |███████████████████▉            | 901 kB 5.3 MB/s eta 0:00:01\r\u001b[K     |████████████████████            | 911 kB 5.3 MB/s eta 0:00:01\r\u001b[K     |████████████████████▎           | 921 kB 5.3 MB/s eta 0:00:01\r\u001b[K     |████████████████████▋           | 931 kB 5.3 MB/s eta 0:00:01\r\u001b[K     |████████████████████▉           | 942 kB 5.3 MB/s eta 0:00:01\r\u001b[K     |█████████████████████           | 952 kB 5.3 MB/s eta 0:00:01\r\u001b[K     |█████████████████████▎          | 962 kB 5.3 MB/s eta 0:00:01\r\u001b[K     |█████████████████████▌          | 972 kB 5.3 MB/s eta 0:00:01\r\u001b[K     |█████████████████████▊          | 983 kB 5.3 MB/s eta 0:00:01\r\u001b[K     |██████████████████████          | 993 kB 5.3 MB/s eta 0:00:01\r\u001b[K     |██████████████████████▏         | 1.0 MB 5.3 MB/s eta 0:00:01\r\u001b[K     |██████████████████████▍         | 1.0 MB 5.3 MB/s eta 0:00:01\r\u001b[K     |██████████████████████▋         | 1.0 MB 5.3 MB/s eta 0:00:01\r\u001b[K     |██████████████████████▉         | 1.0 MB 5.3 MB/s eta 0:00:01\r\u001b[K     |███████████████████████         | 1.0 MB 5.3 MB/s eta 0:00:01\r\u001b[K     |███████████████████████▎        | 1.1 MB 5.3 MB/s eta 0:00:01\r\u001b[K     |███████████████████████▌        | 1.1 MB 5.3 MB/s eta 0:00:01\r\u001b[K     |███████████████████████▊        | 1.1 MB 5.3 MB/s eta 0:00:01\r\u001b[K     |████████████████████████        | 1.1 MB 5.3 MB/s eta 0:00:01\r\u001b[K     |████████████████████████▏       | 1.1 MB 5.3 MB/s eta 0:00:01\r\u001b[K     |████████████████████████▍       | 1.1 MB 5.3 MB/s eta 0:00:01\r\u001b[K     |████████████████████████▋       | 1.1 MB 5.3 MB/s eta 0:00:01\r\u001b[K     |████████████████████████▉       | 1.1 MB 5.3 MB/s eta 0:00:01\r\u001b[K     |█████████████████████████       | 1.1 MB 5.3 MB/s eta 0:00:01\r\u001b[K     |█████████████████████████▎      | 1.1 MB 5.3 MB/s eta 0:00:01\r\u001b[K     |█████████████████████████▌      | 1.2 MB 5.3 MB/s eta 0:00:01\r\u001b[K     |█████████████████████████▊      | 1.2 MB 5.3 MB/s eta 0:00:01\r\u001b[K     |██████████████████████████      | 1.2 MB 5.3 MB/s eta 0:00:01\r\u001b[K     |██████████████████████████▏     | 1.2 MB 5.3 MB/s eta 0:00:01\r\u001b[K     |██████████████████████████▍     | 1.2 MB 5.3 MB/s eta 0:00:01\r\u001b[K     |██████████████████████████▋     | 1.2 MB 5.3 MB/s eta 0:00:01\r\u001b[K     |██████████████████████████▉     | 1.2 MB 5.3 MB/s eta 0:00:01\r\u001b[K     |███████████████████████████     | 1.2 MB 5.3 MB/s eta 0:00:01\r\u001b[K     |███████████████████████████▍    | 1.2 MB 5.3 MB/s eta 0:00:01\r\u001b[K     |███████████████████████████▋    | 1.2 MB 5.3 MB/s eta 0:00:01\r\u001b[K     |███████████████████████████▉    | 1.3 MB 5.3 MB/s eta 0:00:01\r\u001b[K     |████████████████████████████    | 1.3 MB 5.3 MB/s eta 0:00:01\r\u001b[K     |████████████████████████████▎   | 1.3 MB 5.3 MB/s eta 0:00:01\r\u001b[K     |████████████████████████████▌   | 1.3 MB 5.3 MB/s eta 0:00:01\r\u001b[K     |████████████████████████████▊   | 1.3 MB 5.3 MB/s eta 0:00:01\r\u001b[K     |█████████████████████████████   | 1.3 MB 5.3 MB/s eta 0:00:01\r\u001b[K     |█████████████████████████████▏  | 1.3 MB 5.3 MB/s eta 0:00:01\r\u001b[K     |█████████████████████████████▍  | 1.3 MB 5.3 MB/s eta 0:00:01\r\u001b[K     |█████████████████████████████▋  | 1.3 MB 5.3 MB/s eta 0:00:01\r\u001b[K     |█████████████████████████████▉  | 1.4 MB 5.3 MB/s eta 0:00:01\r\u001b[K     |██████████████████████████████  | 1.4 MB 5.3 MB/s eta 0:00:01\r\u001b[K     |██████████████████████████████▎ | 1.4 MB 5.3 MB/s eta 0:00:01\r\u001b[K     |██████████████████████████████▌ | 1.4 MB 5.3 MB/s eta 0:00:01\r\u001b[K     |██████████████████████████████▊ | 1.4 MB 5.3 MB/s eta 0:00:01\r\u001b[K     |███████████████████████████████ | 1.4 MB 5.3 MB/s eta 0:00:01\r\u001b[K     |███████████████████████████████▏| 1.4 MB 5.3 MB/s eta 0:00:01\r\u001b[K     |███████████████████████████████▍| 1.4 MB 5.3 MB/s eta 0:00:01\r\u001b[K     |███████████████████████████████▋| 1.4 MB 5.3 MB/s eta 0:00:01\r\u001b[K     |███████████████████████████████▉| 1.4 MB 5.3 MB/s eta 0:00:01\r\u001b[K     |████████████████████████████████| 1.5 MB 5.3 MB/s \n",
            "\u001b[?25hRequirement already satisfied: scipy==1.4.1 in /usr/local/lib/python3.7/dist-packages (from -r requirements.txt (line 2)) (1.4.1)\n",
            "Requirement already satisfied: scikit_learn in /usr/local/lib/python3.7/dist-packages (from -r requirements.txt (line 3)) (1.0.1)\n",
            "Collecting numpy==1.21.4\n",
            "  Downloading numpy-1.21.4-cp37-cp37m-manylinux_2_12_x86_64.manylinux2010_x86_64.whl (15.7 MB)\n",
            "\u001b[K     |████████████████████████████████| 15.7 MB 21.4 MB/s \n",
            "\u001b[?25hCollecting pandas==1.3.4\n",
            "  Downloading pandas-1.3.4-cp37-cp37m-manylinux_2_17_x86_64.manylinux2014_x86_64.whl (11.3 MB)\n",
            "\u001b[K     |████████████████████████████████| 11.3 MB 39.2 MB/s \n",
            "\u001b[?25hCollecting rouge==1.0.1\n",
            "  Downloading rouge-1.0.1-py3-none-any.whl (13 kB)\n",
            "Requirement already satisfied: torch==1.10.0 in /usr/local/lib/python3.7/dist-packages (from -r requirements.txt (line 7)) (1.10.0+cu111)\n",
            "Collecting transformers==4.12.5\n",
            "  Downloading transformers-4.12.5-py3-none-any.whl (3.1 MB)\n",
            "\u001b[K     |████████████████████████████████| 3.1 MB 44.8 MB/s \n",
            "\u001b[?25hRequirement already satisfied: six in /usr/local/lib/python3.7/dist-packages (from nltk==3.4.5->-r requirements.txt (line 1)) (1.15.0)\n",
            "Requirement already satisfied: python-dateutil>=2.7.3 in /usr/local/lib/python3.7/dist-packages (from pandas==1.3.4->-r requirements.txt (line 5)) (2.8.2)\n",
            "Requirement already satisfied: pytz>=2017.3 in /usr/local/lib/python3.7/dist-packages (from pandas==1.3.4->-r requirements.txt (line 5)) (2018.9)\n",
            "Requirement already satisfied: typing-extensions in /usr/local/lib/python3.7/dist-packages (from torch==1.10.0->-r requirements.txt (line 7)) (3.10.0.2)\n",
            "Requirement already satisfied: packaging>=20.0 in /usr/local/lib/python3.7/dist-packages (from transformers==4.12.5->-r requirements.txt (line 8)) (21.3)\n",
            "Requirement already satisfied: requests in /usr/local/lib/python3.7/dist-packages (from transformers==4.12.5->-r requirements.txt (line 8)) (2.23.0)\n",
            "Requirement already satisfied: filelock in /usr/local/lib/python3.7/dist-packages (from transformers==4.12.5->-r requirements.txt (line 8)) (3.4.0)\n",
            "Collecting tokenizers<0.11,>=0.10.1\n",
            "  Downloading tokenizers-0.10.3-cp37-cp37m-manylinux_2_5_x86_64.manylinux1_x86_64.manylinux_2_12_x86_64.manylinux2010_x86_64.whl (3.3 MB)\n",
            "\u001b[K     |████████████████████████████████| 3.3 MB 37.5 MB/s \n",
            "\u001b[?25hRequirement already satisfied: regex!=2019.12.17 in /usr/local/lib/python3.7/dist-packages (from transformers==4.12.5->-r requirements.txt (line 8)) (2019.12.20)\n",
            "Requirement already satisfied: tqdm>=4.27 in /usr/local/lib/python3.7/dist-packages (from transformers==4.12.5->-r requirements.txt (line 8)) (4.62.3)\n",
            "Requirement already satisfied: importlib-metadata in /usr/local/lib/python3.7/dist-packages (from transformers==4.12.5->-r requirements.txt (line 8)) (4.8.2)\n",
            "Collecting pyyaml>=5.1\n",
            "  Downloading PyYAML-6.0-cp37-cp37m-manylinux_2_5_x86_64.manylinux1_x86_64.manylinux_2_12_x86_64.manylinux2010_x86_64.whl (596 kB)\n",
            "\u001b[K     |████████████████████████████████| 596 kB 32.3 MB/s \n",
            "\u001b[?25hCollecting sacremoses\n",
            "  Downloading sacremoses-0.0.46-py3-none-any.whl (895 kB)\n",
            "\u001b[K     |████████████████████████████████| 895 kB 30.4 MB/s \n",
            "\u001b[?25hCollecting huggingface-hub<1.0,>=0.1.0\n",
            "  Downloading huggingface_hub-0.2.1-py3-none-any.whl (61 kB)\n",
            "\u001b[K     |████████████████████████████████| 61 kB 450 kB/s \n",
            "\u001b[?25hRequirement already satisfied: pyparsing!=3.0.5,>=2.0.2 in /usr/local/lib/python3.7/dist-packages (from packaging>=20.0->transformers==4.12.5->-r requirements.txt (line 8)) (3.0.6)\n",
            "Requirement already satisfied: threadpoolctl>=2.0.0 in /usr/local/lib/python3.7/dist-packages (from scikit_learn->-r requirements.txt (line 3)) (3.0.0)\n",
            "Requirement already satisfied: joblib>=0.11 in /usr/local/lib/python3.7/dist-packages (from scikit_learn->-r requirements.txt (line 3)) (1.1.0)\n",
            "Requirement already satisfied: zipp>=0.5 in /usr/local/lib/python3.7/dist-packages (from importlib-metadata->transformers==4.12.5->-r requirements.txt (line 8)) (3.6.0)\n",
            "Requirement already satisfied: idna<3,>=2.5 in /usr/local/lib/python3.7/dist-packages (from requests->transformers==4.12.5->-r requirements.txt (line 8)) (2.10)\n",
            "Requirement already satisfied: chardet<4,>=3.0.2 in /usr/local/lib/python3.7/dist-packages (from requests->transformers==4.12.5->-r requirements.txt (line 8)) (3.0.4)\n",
            "Requirement already satisfied: urllib3!=1.25.0,!=1.25.1,<1.26,>=1.21.1 in /usr/local/lib/python3.7/dist-packages (from requests->transformers==4.12.5->-r requirements.txt (line 8)) (1.24.3)\n",
            "Requirement already satisfied: certifi>=2017.4.17 in /usr/local/lib/python3.7/dist-packages (from requests->transformers==4.12.5->-r requirements.txt (line 8)) (2021.10.8)\n",
            "Requirement already satisfied: click in /usr/local/lib/python3.7/dist-packages (from sacremoses->transformers==4.12.5->-r requirements.txt (line 8)) (7.1.2)\n",
            "Building wheels for collected packages: nltk\n",
            "  Building wheel for nltk (setup.py) ... \u001b[?25l\u001b[?25hdone\n",
            "  Created wheel for nltk: filename=nltk-3.4.5-py3-none-any.whl size=1449921 sha256=02e63711131669571ed646af122e88d40764c52070168789a23b28eaea56879e\n",
            "  Stored in directory: /root/.cache/pip/wheels/48/8b/7f/473521e0c731c6566d631b281f323842bbda9bd819eb9a3ead\n",
            "Successfully built nltk\n",
            "Installing collected packages: pyyaml, numpy, tokenizers, sacremoses, huggingface-hub, transformers, rouge, pandas, nltk\n",
            "  Attempting uninstall: pyyaml\n",
            "    Found existing installation: PyYAML 3.13\n",
            "    Uninstalling PyYAML-3.13:\n",
            "      Successfully uninstalled PyYAML-3.13\n",
            "  Attempting uninstall: numpy\n",
            "    Found existing installation: numpy 1.19.5\n",
            "    Uninstalling numpy-1.19.5:\n",
            "      Successfully uninstalled numpy-1.19.5\n",
            "  Attempting uninstall: pandas\n",
            "    Found existing installation: pandas 1.1.5\n",
            "    Uninstalling pandas-1.1.5:\n",
            "      Successfully uninstalled pandas-1.1.5\n",
            "  Attempting uninstall: nltk\n",
            "    Found existing installation: nltk 3.2.5\n",
            "    Uninstalling nltk-3.2.5:\n",
            "      Successfully uninstalled nltk-3.2.5\n",
            "\u001b[31mERROR: pip's dependency resolver does not currently take into account all the packages that are installed. This behaviour is the source of the following dependency conflicts.\n",
            "yellowbrick 1.3.post1 requires numpy<1.20,>=1.16.0, but you have numpy 1.21.4 which is incompatible.\n",
            "google-colab 1.0.0 requires pandas~=1.1.0; python_version >= \"3.0\", but you have pandas 1.3.4 which is incompatible.\n",
            "datascience 0.10.6 requires folium==0.2.1, but you have folium 0.8.3 which is incompatible.\n",
            "albumentations 0.1.12 requires imgaug<0.2.7,>=0.2.5, but you have imgaug 0.2.9 which is incompatible.\u001b[0m\n",
            "Successfully installed huggingface-hub-0.2.1 nltk-3.4.5 numpy-1.21.4 pandas-1.3.4 pyyaml-6.0 rouge-1.0.1 sacremoses-0.0.46 tokenizers-0.10.3 transformers-4.12.5\n"
          ]
        }
      ]
    },
    {
      "cell_type": "code",
      "metadata": {
        "id": "Sc-x0YUXisSv"
      },
      "source": [
        "# !cp -r \"/content/gdrive/MyDrive/Colab Notebooks/intermediate/\" ./ \n",
        "# !cp -r \"/content/gdrive/MyDrive/Colab Notebooks/outputs/\" ./ \n",
        "# !cp -r \"/content/gdrive/MyDrive/Colab Notebooks/Code/inputs/\" ./ "
      ],
      "execution_count": 3,
      "outputs": []
    },
    {
      "cell_type": "code",
      "metadata": {
        "id": "feFoq_2NmtPn"
      },
      "source": [
        ""
      ],
      "execution_count": 12,
      "outputs": []
    },
    {
      "cell_type": "code",
      "metadata": {
        "id": "EwgCzWDLlB09"
      },
      "source": [
        "%load_ext autoreload\n",
        "import pandas as pd\n",
        "import numpy as np\n",
        "import cv2\n",
        "import json\n",
        "import matplotlib.pyplot as plt\n",
        "import matplotlib.patches as mpatches\n",
        "import glob\n",
        "from tqdm.notebook import tqdm\n",
        "import os"
      ],
      "execution_count": 2,
      "outputs": []
    },
    {
      "cell_type": "code",
      "metadata": {
        "id": "J05Co8L6lB0_"
      },
      "source": [
        "%autoreload 1"
      ],
      "execution_count": 3,
      "outputs": []
    },
    {
      "cell_type": "code",
      "metadata": {
        "id": "IeKuDcj-jqNp"
      },
      "source": [
        "# !pip uninstall pandas\n",
        "# !pip install pandas==1.1.5"
      ],
      "execution_count": 2,
      "outputs": []
    },
    {
      "cell_type": "code",
      "metadata": {
        "id": "7IAx-MhTlB1A"
      },
      "source": [
        "path = 'ydata-tvsum50-anno.tsv'\n",
        "df = pd.read_csv(path,delimiter='\\t', header=None, names=['id','cat','scores'])\n",
        "df = df.join(df['scores'].str.split(',',expand=True).apply(pd.to_numeric))\n",
        "df = df.drop(axis=1, columns=['scores'])"
      ],
      "execution_count": 4,
      "outputs": []
    },
    {
      "cell_type": "code",
      "metadata": {
        "id": "NMvKmn-XlB1A"
      },
      "source": [
        "# import sys\n",
        "# sys.path.append('src')\n",
        "# %aimport evaluation"
      ],
      "execution_count": 3,
      "outputs": []
    },
    {
      "cell_type": "code",
      "metadata": {
        "id": "SQiMCFIYlB1B"
      },
      "source": [
        "files = [\"EE-bNr36nyA\"]\n",
        "# for file_id in glob.glob('../inputs/*'):\n",
        "#     filename = file_id.split('/')[-1].split('.')[0]\n",
        "#     if filename not in files:\n",
        "#         files.append(filename)\n",
        "order = [ \"AwmHb44_ouw\", \"98MoyGZKHXc\", \"J0nA4VgnoCo\", \"gzDbaEs1Rlg\", \"XzYM3PfTM4w\", \"HT5vyqe0Xaw\", \"sTEELN-vY30\", \"vdmoEJ5YbrQ\", \"xwqBXPGE9pQ\", \"akI8YFjEmUw\", \"i3wAGJaaktw\", \"Bhxk-O1Y7Ho\", \"0tmA_C6XwfM\", \"3eYKfiOEJNs\", \"xxdtq8mxegs\", \"WG0MBPpPC6I\", \"Hl-__g2gn_A\", \"Yi4Ij2NM7U4\", \"37rzWOQsNIw\", \"LRw_obCPUt0\", \"cjibtmSLxQ4\", \"b626MiF1ew4\", \"XkqCExn6_Us\", \"GsAD1KT1xo8\", \"PJrm840pAUI\", \"91IHQYk1IQM\", \"RBCABdttQmI\", \"z_6gVvQb2d0\", \"fWutDQy1nnY\", \"4wU_LUjG5Ic\", \"VuWGsYPqAX8\", \"JKpqYvAdIsw\", \"xmEERLqJ2kU\", \"byxOvuiIJV0\", \"_xMr-HKMfVA\", \"WxtbjNsCQ8A\", \"uGu_10sucQo\", \"EE-bNr36nyA\", \"Se3oxnaPsz0\", \"oDXZc0tZe04\", \"qqR6AEXwxoQ\", \"EYqVtI9YWJA\", \"eQu1rNs0an0\", \"JgHubY5Vw3Y\", \"iVt07TCkFM0\", \"E11zDS9XGzg\", \"NyBmCxDoHJU\", \"kLxoNp-UchI\", \"jcoYJXDG9sw\", \"-esJrBWj2d8\"]\n",
        "\n",
        "files = sorted(files, key={k:v for v,k in enumerate(order)}.get)"
      ],
      "execution_count": 22,
      "outputs": []
    },
    {
      "cell_type": "code",
      "metadata": {
        "colab": {
          "base_uri": "https://localhost:8080/",
          "height": 240,
          "referenced_widgets": [
            "db3ddb3dc7b14fdea6bec17ed60ea3d2",
            "467a11b4d04b493a8c41dbe31813ddba",
            "7530f0b0f2e441ebb9adf032ee2e07ae",
            "74e5c06e88b445c99fe5bfb1630d4db6",
            "132de16908ba43baae48f960e0b90e83",
            "f72133cab65744bf81e55b6a0091bb80",
            "d2d3cc69b71041dc85645aad4854567b",
            "c3858147e08b40c891215f389fb1621d",
            "749d8ac204f74825b8b93ea46d5922e6",
            "1015ac7e95eb45d28a2a4e1650186fdc",
            "e57f7a48c4da44dc9d2e6a2fbf2b8932"
          ]
        },
        "id": "9lwKLtY1lB1C",
        "outputId": "76951445-94bb-4411-f822-cc3a3b4b35d9"
      },
      "source": [
        "all_val_list = []\n",
        "clip_fps = []\n",
        "for file_id in tqdm(files):\n",
        "    frame_scores_for_video = df[df['id']==file_id].drop(axis=1, columns=['id','cat']).values\n",
        "    frame_scores_for_video_nonan = frame_scores_for_video[~np.isnan(frame_scores_for_video)]\n",
        "    frame_scores_for_video_nonan = frame_scores_for_video_nonan.reshape((20,-1))\n",
        "    temp = []\n",
        "    if file_id in files:\n",
        "        with open(f'intermediate/{file_id}_clip_list_NLP.json') as f:\n",
        "            clip_data = json.load(f)\n",
        "            # print(clip_data)\n",
        "\n",
        "        # Convert clip start time and end time to fps\n",
        "        fps = round(cv2.VideoCapture(f'inputs/{file_id}.mp4').get(cv2.CAP_PROP_FPS))\n",
        "        print(fps)\n",
        "        for clip in clip_data:\n",
        "            h,m,s = clip['clip_start'].split(':')\n",
        "            secs = int(h)*3600+int(m)*60+float(s)\n",
        "            clip['clip_start_fps'] = round(secs*fps)\n",
        "            h,m,s = clip['clip_end'].split(':')\n",
        "            secs = int(h)*3600+int(m)*60+float(s)\n",
        "            clip['clip_end_fps'] = round(secs*fps)\n",
        "            temp.append([clip['clip_start_fps'], clip['clip_end_fps']])\n",
        "        # Generate list with included and excluded frames. Included frames are 1.\n",
        "        val_list = [0 for i in range(frame_scores_for_video_nonan.shape[1])]\n",
        "        try:\n",
        "            for clip in clip_data:\n",
        "                for i in range(clip['clip_start_fps'], clip['clip_end_fps']+1):\n",
        "                    val_list[i] = 1\n",
        "            val_np = np.array(val_list)\n",
        "        except:\n",
        "            pass\n",
        "        \n",
        "    elif file_id in order:\n",
        "        print(file_id)\n",
        "        val_list = [0 for i in range(frame_scores_for_video_nonan.shape[1])]\n",
        "        temp.append([])\n",
        "    all_val_list.append(val_list)\n",
        "    clip_fps.append(temp)\n",
        "#     for clip in clip_data:\n",
        "#         print(clip['clip_start_fps'], clip['clip_end_fps'])\n",
        "\n",
        "    # Plot the average score graph\n",
        "    plt.plot(frame_scores_for_video_nonan.mean(axis=0))\n",
        "    \n",
        "    # Plot the regions of the selected frames\n",
        "    for i in range(len(val_list)):\n",
        "        if val_list[i] == 1:\n",
        "            plt.axvspan(i,i+1,facecolor='r', alpha=0.5)\n",
        "\n",
        "    # Plot labels and axes setup\n",
        "    plt.xlabel('Frame Number')\n",
        "    plt.ylabel('Average Score over 20 evaluations')\n",
        "#     blue_patch = mpatches.Patch(color='blue', alpha=0.5, label='Selected in Summary')\n",
        "#     plt.legend(['Avg. Importance Score'], handles=[blue_patch])\n",
        "    plt.legend(['Avg. Importance Score','Selected in Summary'], loc=1)\n",
        "    # Create directories and save\n",
        "    if not os.path.exists(f\"outputs/{0.2}_{3}/\"):\n",
        "        os.makedirs(f\"outputs/{0.2}_{3}/\")\n",
        "    print(f\"{0.2}_{3}/{file_id}\")\n",
        "    plt.savefig(f\"outputs/{0.2}_{3}/{file_id}_NLP.png\", dpi=300)\n",
        "#     plt.show()\n",
        "    plt.clf()"
      ],
      "execution_count": 23,
      "outputs": [
        {
          "output_type": "display_data",
          "data": {
            "application/vnd.jupyter.widget-view+json": {
              "model_id": "db3ddb3dc7b14fdea6bec17ed60ea3d2",
              "version_minor": 0,
              "version_major": 2
            },
            "text/plain": [
              "  0%|          | 0/5 [00:00<?, ?it/s]"
            ]
          },
          "metadata": {}
        },
        {
          "output_type": "stream",
          "name": "stdout",
          "text": [
            "30\n",
            "0.2_3/akI8YFjEmUw\n",
            "30\n",
            "0.2_3/i3wAGJaaktw\n",
            "25\n",
            "0.2_3/3eYKfiOEJNs\n",
            "30\n",
            "0.2_3/EE-bNr36nyA\n",
            "24\n",
            "0.2_3/iVt07TCkFM0\n"
          ]
        },
        {
          "output_type": "display_data",
          "data": {
            "text/plain": [
              "<Figure size 432x288 with 0 Axes>"
            ]
          },
          "metadata": {}
        }
      ]
    },
    {
      "cell_type": "code",
      "metadata": {
        "id": "xNRgSFVClB1E"
      },
      "source": [
        "clip_fps_data = np.array([np.array(i) for i in clip_fps])\n"
      ],
      "execution_count": null,
      "outputs": []
    },
    {
      "cell_type": "code",
      "metadata": {
        "id": "dKyTv6I-lB1F"
      },
      "source": [
        "from scipy.io import savemat\n",
        "array = np.array([np.array(i, dtype=float) for i in all_val_list])\n",
        "savemat('shots.mat', {\"shot_boun\": clip_fps_data})"
      ],
      "execution_count": null,
      "outputs": []
    },
    {
      "cell_type": "code",
      "metadata": {
        "id": "cD_gpSDElB1G"
      },
      "source": [
        "# Generate graphs by varying the flexibility parameter.\n",
        "\n",
        "clips = glob.glob('outputs/varyf/*_clip_list*.json')\n",
        "for i in clips:\n",
        "    file_id = i.split('/')[-1].split('.')[0].split('_')[0]\n",
        "    f = int(i.split('/')[-1].split('.')[0].split('_')[-1])\n",
        "    print(video,f)\n",
        "    frame_scores_for_video = df[df['id']==file_id].drop(axis=1, columns=['id','cat']).values\n",
        "    frame_scores_for_video_nonan = frame_scores_for_video[~np.isnan(frame_scores_for_video)]\n",
        "    frame_scores_for_video_nonan = frame_scores_for_video_nonan.reshape((20,-1))\n",
        "    temp = []\n",
        "    with open(f'outputs/varyf/{file_id}_clip_list_{f}.json') as fil:\n",
        "        clip_data = json.load(fil)\n",
        "\n",
        "    # Convert clip start time and end time to fps\n",
        "    fps = round(cv2.VideoCapture(f'inputs/{file_id}.mp4').get(cv2.CAP_PROP_FPS))\n",
        "    for clip in clip_data:\n",
        "        h,m,s = clip['clip_start'].split(':')\n",
        "        secs = int(h)*3600+int(m)*60+float(s)\n",
        "        clip['clip_start_fps'] = round(secs*fps)\n",
        "        h,m,s = clip['clip_end'].split(':')\n",
        "        secs = int(h)*3600+int(m)*60+float(s)\n",
        "        clip['clip_end_fps'] = round(secs*fps)\n",
        "        temp.append([clip['clip_start_fps'], clip['clip_end_fps']])\n",
        "    # Generate list with included and excluded frames. Included frames are 1.\n",
        "    val_list = [0 for i in range(frame_scores_for_video_nonan.shape[1])]\n",
        "    try:\n",
        "        for clip in clip_data:\n",
        "            for i in range(clip['clip_start_fps'], clip['clip_end_fps']+1):\n",
        "                val_list[i] = 1\n",
        "        val_np = np.array(val_list)\n",
        "    except:\n",
        "        pass\n",
        "    \n",
        "#     for clip in clip_data:\n",
        "#         print(clip['clip_start_fps'], clip['clip_end_fps'])\n",
        "\n",
        "    # Plot the average score graph\n",
        "    plt.plot(frame_scores_for_video_nonan.mean(axis=0))\n",
        "    \n",
        "    # Plot the regions of the selected frames\n",
        "    for i in range(len(val_list)):\n",
        "        if val_list[i] == 1:\n",
        "            plt.axvspan(i,i+1,facecolor='b', alpha=0.5)\n",
        "\n",
        "    # Plot labels and axes setup\n",
        "    plt.xlabel('Frame Number')\n",
        "    plt.ylabel('Average Score over 20 evaluations')\n",
        "#     blue_patch = mpatches.Patch(color='blue', alpha=0.5, label='Selected in Summary')\n",
        "#     plt.legend(['Avg. Importance Score'], handles=[blue_patch])\n",
        "    plt.legend(['Avg. Importance Score','Selected in Summary'], loc=1)\n",
        "    # Create directories and save\n",
        "    plt.savefig(f\"outputs/varyf/{file_id}_{f}.png\", dpi=300)\n",
        "#     plt.show()\n",
        "    plt.clf()\n",
        "    "
      ],
      "execution_count": null,
      "outputs": []
    }
  ]
}