{
 "cells": [
  {
   "cell_type": "code",
   "execution_count": 40,
   "metadata": {},
   "outputs": [],
   "source": [
    "from youtube_transcript_api import YouTubeTranscriptApi\n",
    "from evaluation import file_id\n",
    "from functools import reduce\n",
    "import json\n",
    "from datetime import datetime, timedelta"
   ]
  },
  {
   "cell_type": "code",
   "execution_count": 17,
   "metadata": {},
   "outputs": [],
   "source": [
    "def compute_end_time(start_time, duration):\n",
    "    start_time = datetime.strptime(start_time, '%H:%M:%S.%f')\n",
    "    duration = duration * 1000\n",
    "    return start_time + timedelta(milliseconds=duration)\n",
    "\n",
    "def secondsToStr(t):\n",
    "    return \"%02d:%02d:%02d.%03d\" % reduce(lambda ll,b : divmod(ll[0],b) + ll[1:], [(t*1000,),1000,60,60])"
   ]
  },
  {
   "cell_type": "code",
   "execution_count": 44,
   "metadata": {},
   "outputs": [],
   "source": [
    "def subtitle_using_api(video_id):\n",
    "    transcript = YouTubeTranscriptApi.get_transcript(video_id, languages=['en'])\n",
    "    intermediate = []\n",
    "    for idx, i in enumerate(transcript):\n",
    "        new_d = {}\n",
    "        new_d['index'] = idx+1\n",
    "        new_d['start_time'] = secondsToStr(i['start'])\n",
    "        new_d['end_time'] = datetime.strftime(compute_end_time(new_d['start_time'], i['duration']), '%H:%M:%S.%f')[:-3]\n",
    "        new_d['duration'] = i['duration']\n",
    "        new_d['text'] = i['text']\n",
    "        intermediate.append(new_d)\n",
    "    with open(f'../intermediate/{video_id}_parsed.json', 'w') as f:\n",
    "        json.dump(intermediate, f)"
   ]
  },
  {
   "cell_type": "code",
   "execution_count": 43,
   "metadata": {},
   "outputs": [
    {
     "name": "stdout",
     "output_type": "stream",
     "text": [
      "hi\n"
     ]
    }
   ],
   "source": []
  },
  {
   "cell_type": "code",
   "execution_count": null,
   "metadata": {},
   "outputs": [],
   "source": []
  }
 ],
 "metadata": {
  "kernelspec": {
   "display_name": "Python 3",
   "language": "python",
   "name": "python3"
  },
  "language_info": {
   "codemirror_mode": {
    "name": "ipython",
    "version": 3
   },
   "file_extension": ".py",
   "mimetype": "text/x-python",
   "name": "python",
   "nbconvert_exporter": "python",
   "pygments_lexer": "ipython3",
   "version": "3.7.6"
  }
 },
 "nbformat": 4,
 "nbformat_minor": 4
}
