{
 "cells": [
  {
   "cell_type": "code",
   "execution_count": 82,
   "metadata": {},
   "outputs": [],
   "source": [
    "import pandas as pd\n",
    "import numpy as np\n",
    "import cv2\n",
    "import json\n",
    "import matplotlib.pyplot as plt\n",
    "import matplotlib.patches as mpatches\n",
    "import glob\n",
    "from tqdm.notebook import tqdm\n",
    "import os\n",
    "from sklearn.metrics import f1_score"
   ]
  },
  {
   "cell_type": "code",
   "execution_count": 106,
   "metadata": {},
   "outputs": [],
   "source": [
    "path = '../ignored/tvsum50_ver_1_1/ydata-tvsum50-v1_1/data/ydata-tvsum50-anno.tsv'\n",
    "df = pd.read_csv(path,delimiter='\\t', header=None, names=['id','cat','scores'])\n",
    "df = df.join(df['scores'].str.split(',',expand=True).apply(pd.to_numeric))\n",
    "df = df.drop(axis=1, columns=['scores'])"
   ]
  },
  {
   "cell_type": "code",
   "execution_count": 107,
   "metadata": {},
   "outputs": [
    {
     "name": "stdout",
     "output_type": "stream",
     "text": [
      "580    PR\n",
      "581    PR\n",
      "582    PR\n",
      "583    PR\n",
      "584    PR\n",
      "585    PR\n",
      "586    PR\n",
      "587    PR\n",
      "588    PR\n",
      "589    PR\n",
      "590    PR\n",
      "591    PR\n",
      "592    PR\n",
      "593    PR\n",
      "594    PR\n",
      "595    PR\n",
      "596    PR\n",
      "597    PR\n",
      "598    PR\n",
      "599    PR\n",
      "Name: cat, dtype: object\n"
     ]
    }
   ],
   "source": [
    "print(df[df['id']==file_id]['cat'])"
   ]
  },
  {
   "cell_type": "code",
   "execution_count": 110,
   "metadata": {},
   "outputs": [],
   "source": [
    "# files = ['Bhxk-O1Y7Ho']\n",
    "# files = ['98MoyGZKHXc', 'Bhxk-O1Y7Ho', '4wU_LUjG5Ic', 'iVt07TCkFM0']\n",
    "files = []\n",
    "for file_id in glob.glob('../inputs/*'):\n",
    "    filename = file_id.split('/')[-1].split('.')[0]\n",
    "    if filename not in files:\n",
    "        files.append(filename)\n",
    "proportion = 0.2"
   ]
  },
  {
   "cell_type": "markdown",
   "metadata": {},
   "source": [
    "Get the predicted indices"
   ]
  },
  {
   "cell_type": "code",
   "execution_count": 111,
   "metadata": {},
   "outputs": [
    {
     "name": "stdout",
     "output_type": "stream",
     "text": [
      "vdmoEJ5YbrQ VU 0.4982104509663566\n",
      "HT5vyqe0Xaw VU 0.3489601691928093\n",
      "eQu1rNs0an0 BT 0.3583977512297962\n",
      "WxtbjNsCQ8A BK 0.39633027522935776\n",
      "37rzWOQsNIw MS 0.3005405405405405\n",
      "AwmHb44_ouw VT 0.3494757863205192\n",
      "0tmA_C6XwfM GA 0.47765267826680313\n",
      "b626MiF1ew4 PK 0.327007299270073\n",
      "EYqVtI9YWJA BT 0.32410018245148453\n",
      "jcoYJXDG9sw DS 0.3520610239108112\n",
      "Se3oxnaPsz0 BK 0.35699107522311946\n",
      "qqR6AEXwxoQ BT 0.36527621195039456\n",
      "Bhxk-O1Y7Ho GA 0.2988314922418747\n",
      "J0nA4VgnoCo VT 0.3698480773424438\n",
      "XzYM3PfTM4w VT 0.40106100795755967\n",
      "E11zDS9XGzg DS 0.3527416619559073\n",
      "3eYKfiOEJNs GA 0.40630975143403436\n",
      "JgHubY5Vw3Y BT 0.4297774366845741\n",
      "i3wAGJaaktw GA 0.26460859977949286\n",
      "WG0MBPpPC6I MS 0.31703204047217537\n",
      "Yi4Ij2NM7U4 MS 0.3522411741372471\n",
      "EE-bNr36nyA BK 0.338436744560838\n",
      "iVt07TCkFM0 BT 0.40472440944881893\n",
      "98MoyGZKHXc VT 0.3604629102637071\n",
      "akI8YFjEmUw VU 0.3087213789554927\n",
      "xwqBXPGE9pQ VU 0.4290822407628128\n",
      "Hl-__g2gn_A MS 0.34408602150537637\n",
      "4wU_LUjG5Ic PR 0.17526243724326793\n"
     ]
    }
   ],
   "source": [
    "temp = []\n",
    "for file_id in files:\n",
    "    frame_scores_for_video = df[df['id']==file_id].drop(axis=1, columns=['id','cat']).values\n",
    "    frame_scores_for_video_nonan = frame_scores_for_video[~np.isnan(frame_scores_for_video)]\n",
    "    frame_scores_for_video_nonan = frame_scores_for_video_nonan.reshape((20,-1))\n",
    "    \n",
    "    with open(f'../intermediate/{file_id}_clip_list.json') as f:\n",
    "        clip_data = json.load(f)\n",
    "\n",
    "    # Convert clip start time and end time to fps\n",
    "    fps = round(cv2.VideoCapture(f'../inputs/{file_id}.mp4').get(cv2.CAP_PROP_FPS))\n",
    "    for clip in clip_data:\n",
    "        h,m,s = clip['clip_start'].split(':')\n",
    "        secs = int(h)*3600+int(m)*60+float(s)\n",
    "        clip['clip_start_fps'] = round(secs*fps)\n",
    "        h,m,s = clip['clip_end'].split(':')\n",
    "        secs = int(h)*3600+int(m)*60+float(s)\n",
    "        clip['clip_end_fps'] = round(secs*fps)\n",
    "        temp.append([clip['clip_start_fps'], clip['clip_end_fps']])\n",
    "    # Generate list with included and excluded frames. Included frames are 1.\n",
    "    val_list = [0 for i in range(frame_scores_for_video_nonan.shape[1])]\n",
    "    try:\n",
    "        for clip in clip_data:\n",
    "            for i in range(clip['clip_start_fps'], clip['clip_end_fps']+1):\n",
    "                val_list[i] = 1\n",
    "        val_np = np.array(val_list)\n",
    "    except:\n",
    "        pass\n",
    "    avg_frame_scores = frame_scores_for_video_nonan.mean(axis=0)\n",
    "    fps = round(cv2.VideoCapture(f'../inputs/{file_id}.mp4').get(cv2.CAP_PROP_FPS))\n",
    "    last = 0\n",
    "    l = []\n",
    "    for i,el in enumerate(list(frame_scores_for_video_nonan.mean(axis=0))):\n",
    "        if i % (fps*2) == 0:\n",
    "            d = {}\n",
    "            last = i\n",
    "            d['start'] = i\n",
    "            d['score'] = el\n",
    "            l.append(d)\n",
    "\n",
    "    if last<len(avg_frame_scores):\n",
    "        l.append({'start': len(avg_frame_scores)-1, 'score': avg_frame_scores[-1]})\n",
    "    arranged = sorted(l,key=lambda x: x['score'], reverse=True)\n",
    "    selected_list = [0 for i in range(len(avg_frame_scores))]\n",
    "    target_length = round((len(avg_frame_scores))*proportion)\n",
    "    for selected in arranged:\n",
    "        for i in range(selected['start'],selected['start']+2*fps):\n",
    "            try:\n",
    "                selected_list[i] = 1\n",
    "            except IndexError:\n",
    "                pass\n",
    "        target_length-=2*fps\n",
    "        if target_length<0:\n",
    "            break\n",
    "    print(file_id, df[df['id']==file_id]['cat'].iloc[0], f1_score(y_true=selected_list, y_pred=val_list))"
   ]
  },
  {
   "cell_type": "code",
   "execution_count": null,
   "metadata": {},
   "outputs": [],
   "source": []
  }
 ],
 "metadata": {
  "kernelspec": {
   "display_name": "Python 3",
   "language": "python",
   "name": "python3"
  },
  "language_info": {
   "codemirror_mode": {
    "name": "ipython",
    "version": 3
   },
   "file_extension": ".py",
   "mimetype": "text/x-python",
   "name": "python",
   "nbconvert_exporter": "python",
   "pygments_lexer": "ipython3",
   "version": "3.7.6"
  }
 },
 "nbformat": 4,
 "nbformat_minor": 4
}
