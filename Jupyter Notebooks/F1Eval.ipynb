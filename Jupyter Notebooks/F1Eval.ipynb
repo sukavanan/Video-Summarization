{
 "cells": [
  {
   "cell_type": "code",
   "execution_count": 82,
   "metadata": {},
   "outputs": [],
   "source": [
    "import pandas as pd\n",
    "import numpy as np\n",
    "import cv2\n",
    "import json\n",
    "import matplotlib.pyplot as plt\n",
    "import matplotlib.patches as mpatches\n",
    "import glob\n",
    "from tqdm.notebook import tqdm\n",
    "import os\n",
    "from sklearn.metrics import f1_score"
   ]
  },
  {
   "cell_type": "code",
   "execution_count": 106,
   "metadata": {},
   "outputs": [],
   "source": [
    "path = '../ignored/tvsum50_ver_1_1/ydata-tvsum50-v1_1/data/ydata-tvsum50-anno.tsv'\n",
    "df = pd.read_csv(path,delimiter='\\t', header=None, names=['id','cat','scores'])\n",
    "df = df.join(df['scores'].str.split(',',expand=True).apply(pd.to_numeric))\n",
    "df = df.drop(axis=1, columns=['scores'])"
   ]
  },
  {
   "cell_type": "code",
   "execution_count": 125,
   "metadata": {},
   "outputs": [],
   "source": [
    "# files = ['EE-bNr36nyA']\n",
    "# files = ['98MoyGZKHXc', 'Bhxk-O1Y7Ho', '4wU_LUjG5Ic', 'iVt07TCkFM0']\n",
    "files = []\n",
    "for file_id in glob.glob('../inputs/*'):\n",
    "    filename = file_id.split('/')[-1].split('.')[0]\n",
    "    if filename not in files:\n",
    "        files.append(filename)\n",
    "proportion = 0.2"
   ]
  },
  {
   "cell_type": "markdown",
   "metadata": {},
   "source": [
    "Get the predicted indices"
   ]
  },
  {
   "cell_type": "code",
   "execution_count": 126,
   "metadata": {},
   "outputs": [
    {
     "name": "stdout",
     "output_type": "stream",
     "text": [
      "vdmoEJ5YbrQ VU 0.319868771785934\n",
      "HT5vyqe0Xaw VU 0.19548133595284872\n",
      "eQu1rNs0an0 BT 0.3430777716492003\n",
      "WxtbjNsCQ8A BK 0.31279342723004694\n",
      "37rzWOQsNIw MS 0.32\n",
      "AwmHb44_ouw VT 0.02862595419847328\n",
      "0tmA_C6XwfM GA 0.26427622841965476\n",
      "b626MiF1ew4 PK 0.1293219577907499\n",
      "EYqVtI9YWJA BT 0.42775510204081635\n",
      "jcoYJXDG9sw DS 0.09090909090909091\n",
      "Se3oxnaPsz0 BK 0.25810253388332355\n",
      "qqR6AEXwxoQ BT 0.20888661899897856\n",
      "Bhxk-O1Y7Ho GA 0.2647367316970841\n",
      "J0nA4VgnoCo VT 0.15135929463629683\n",
      "XzYM3PfTM4w VT 0.26704953338119164\n",
      "E11zDS9XGzg DS 0.234315424610052\n",
      "3eYKfiOEJNs GA 0.03292568203198495\n",
      "JgHubY5Vw3Y BT 0.30992196209587514\n",
      "i3wAGJaaktw GA 0.3673469387755102\n",
      "WG0MBPpPC6I MS 0.14965259219668625\n",
      "Yi4Ij2NM7U4 MS 0.29663906478324403\n",
      "EE-bNr36nyA BK 0.03591836734693878\n",
      "iVt07TCkFM0 BT 0.46068455134135067\n",
      "98MoyGZKHXc VT 0.10774410774410775\n",
      "akI8YFjEmUw VU 0.154320987654321\n",
      "xwqBXPGE9pQ VU 0.28264758497316633\n",
      "Hl-__g2gn_A MS 0.1469767441860465\n",
      "4wU_LUjG5Ic PR 0.20567755757900374\n"
     ]
    }
   ],
   "source": [
    "temp = []\n",
    "table = []\n",
    "for file_id in files:\n",
    "    frame_scores_for_video = df[df['id']==file_id].drop(axis=1, columns=['id','cat']).values\n",
    "    frame_scores_for_video_nonan = frame_scores_for_video[~np.isnan(frame_scores_for_video)]\n",
    "    frame_scores_for_video_nonan = frame_scores_for_video_nonan.reshape((20,-1))\n",
    "    \n",
    "    with open(f'../intermediate/{file_id}_clip_list.json') as f:\n",
    "        clip_data = json.load(f)\n",
    "\n",
    "    # Convert clip start time and end time to fps\n",
    "    fps = round(cv2.VideoCapture(f'../inputs/{file_id}.mp4').get(cv2.CAP_PROP_FPS))\n",
    "    for clip in clip_data:\n",
    "        h,m,s = clip['clip_start'].split(':')\n",
    "        secs = int(h)*3600+int(m)*60+float(s)\n",
    "        clip['clip_start_fps'] = round(secs*fps)\n",
    "        h,m,s = clip['clip_end'].split(':')\n",
    "        secs = int(h)*3600+int(m)*60+float(s)\n",
    "        clip['clip_end_fps'] = round(secs*fps)\n",
    "        temp.append([clip['clip_start_fps'], clip['clip_end_fps']])\n",
    "    # Generate list with included and excluded frames. Included frames are 1.\n",
    "    val_list = [0 for i in range(frame_scores_for_video_nonan.shape[1])]\n",
    "    try:\n",
    "        for clip in clip_data:\n",
    "            for i in range(clip['clip_start_fps'], clip['clip_end_fps']+1):\n",
    "                val_list[i] = 1\n",
    "        val_np = np.array(val_list)\n",
    "    except:\n",
    "        pass\n",
    "    avg_frame_scores = frame_scores_for_video_nonan.mean(axis=0)\n",
    "    fps = round(cv2.VideoCapture(f'../inputs/{file_id}.mp4').get(cv2.CAP_PROP_FPS))\n",
    "    last = 0\n",
    "    l = []\n",
    "    for i,el in enumerate(list(frame_scores_for_video_nonan.mean(axis=0))):\n",
    "        if i % (fps*2) == 0:\n",
    "            d = {}\n",
    "            last = i\n",
    "            d['start'] = i\n",
    "            d['score'] = el\n",
    "            l.append(d)\n",
    "\n",
    "    if last<len(avg_frame_scores):\n",
    "        l.append({'start': len(avg_frame_scores)-1, 'score': avg_frame_scores[-1]})\n",
    "    arranged = sorted(l,key=lambda x: x['score'], reverse=True)\n",
    "    selected_list = [0 for i in range(len(avg_frame_scores))]\n",
    "    target_length = round((len(avg_frame_scores))*proportion)\n",
    "    for selected in arranged:\n",
    "        for i in range(selected['start'],selected['start']+2*fps):\n",
    "            try:\n",
    "                selected_list[i] = 1\n",
    "            except IndexError:\n",
    "                pass\n",
    "        target_length-=2*fps\n",
    "        if target_length<0:\n",
    "            break\n",
    "    table.append({\"file_id\":file_id, \"cat\": df[df['id']==file_id]['cat'].iloc[0], \"f1\": f1_score(y_true=selected_list, y_pred=val_list)})\n",
    "    print(file_id, df[df['id']==file_id]['cat'].iloc[0], f1_score(y_true=selected_list, y_pred=val_list))"
   ]
  },
  {
   "cell_type": "code",
   "execution_count": 131,
   "metadata": {},
   "outputs": [
    {
     "name": "stdout",
     "output_type": "stream",
     "text": [
      "iVt07TCkFM0 BT 0.46068\n",
      "EYqVtI9YWJA BT 0.42776\n",
      "i3wAGJaaktw GA 0.36735\n",
      "eQu1rNs0an0 BT 0.34308\n",
      "37rzWOQsNIw MS 0.32\n",
      "vdmoEJ5YbrQ VU 0.31987\n",
      "WxtbjNsCQ8A BK 0.31279\n",
      "JgHubY5Vw3Y BT 0.30992\n",
      "Yi4Ij2NM7U4 MS 0.29664\n",
      "xwqBXPGE9pQ VU 0.28265\n",
      "XzYM3PfTM4w VT 0.26705\n",
      "Bhxk-O1Y7Ho GA 0.26474\n",
      "0tmA_C6XwfM GA 0.26428\n",
      "Se3oxnaPsz0 BK 0.2581\n",
      "E11zDS9XGzg DS 0.23432\n",
      "qqR6AEXwxoQ BT 0.20889\n",
      "4wU_LUjG5Ic PR 0.20568\n",
      "HT5vyqe0Xaw VU 0.19548\n",
      "akI8YFjEmUw VU 0.15432\n",
      "J0nA4VgnoCo VT 0.15136\n",
      "WG0MBPpPC6I MS 0.14965\n",
      "Hl-__g2gn_A MS 0.14698\n",
      "b626MiF1ew4 PK 0.12932\n",
      "98MoyGZKHXc VT 0.10774\n",
      "jcoYJXDG9sw DS 0.09091\n",
      "EE-bNr36nyA BK 0.03592\n",
      "3eYKfiOEJNs GA 0.03293\n",
      "AwmHb44_ouw VT 0.02863\n"
     ]
    }
   ],
   "source": [
    "for l in sorted(table, key=lambda x: x['f1'], reverse=True):\n",
    "    print(l['file_id'], l['cat'], round(l['f1'],5))"
   ]
  },
  {
   "cell_type": "code",
   "execution_count": null,
   "metadata": {},
   "outputs": [],
   "source": []
  }
 ],
 "metadata": {
  "kernelspec": {
   "display_name": "Python 3",
   "language": "python",
   "name": "python3"
  },
  "language_info": {
   "codemirror_mode": {
    "name": "ipython",
    "version": 3
   },
   "file_extension": ".py",
   "mimetype": "text/x-python",
   "name": "python",
   "nbconvert_exporter": "python",
   "pygments_lexer": "ipython3",
   "version": "3.7.6"
  }
 },
 "nbformat": 4,
 "nbformat_minor": 4
}
