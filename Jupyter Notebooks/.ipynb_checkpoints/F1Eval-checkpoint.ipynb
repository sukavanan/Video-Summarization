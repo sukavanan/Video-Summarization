{
 "cells": [
  {
   "cell_type": "code",
   "execution_count": 82,
   "metadata": {},
   "outputs": [],
   "source": [
    "import pandas as pd\n",
    "import numpy as np\n",
    "import cv2\n",
    "import json\n",
    "import matplotlib.pyplot as plt\n",
    "import matplotlib.patches as mpatches\n",
    "import glob\n",
    "from tqdm.notebook import tqdm\n",
    "import os\n",
    "from sklearn.metrics import f1_score"
   ]
  },
  {
   "cell_type": "code",
   "execution_count": 2,
   "metadata": {},
   "outputs": [],
   "source": [
    "path = '../ignored/tvsum50_ver_1_1/ydata-tvsum50-v1_1/data/ydata-tvsum50-anno.tsv'\n",
    "df = pd.read_csv(path,delimiter='\\t', header=None, names=['id','cat','scores'])\n",
    "df = df.join(df['scores'].str.split(',',expand=True).apply(pd.to_numeric))\n",
    "df = df.drop(axis=1, columns=['scores'])"
   ]
  },
  {
   "cell_type": "code",
   "execution_count": 53,
   "metadata": {},
   "outputs": [],
   "source": [
    "# files = ['Bhxk-O1Y7Ho']\n",
    "files = ['98MoyGZKHXc']\n",
    "proportion = 0.2"
   ]
  },
  {
   "cell_type": "markdown",
   "metadata": {},
   "source": [
    "Get the selected indices"
   ]
  },
  {
   "cell_type": "code",
   "execution_count": 37,
   "metadata": {},
   "outputs": [],
   "source": [
    "temp = []\n",
    "for file_id in files:\n",
    "    frame_scores_for_video = df[df['id']==file_id].drop(axis=1, columns=['id','cat']).values\n",
    "    frame_scores_for_video_nonan = frame_scores_for_video[~np.isnan(frame_scores_for_video)]\n",
    "    frame_scores_for_video_nonan = frame_scores_for_video_nonan.reshape((20,-1))\n",
    "    \n",
    "    with open(f'../intermediate/{file_id}_clip_list.json') as f:\n",
    "        clip_data = json.load(f)\n",
    "\n",
    "    # Convert clip start time and end time to fps\n",
    "    fps = round(cv2.VideoCapture(f'../inputs/{file_id}.mp4').get(cv2.CAP_PROP_FPS))\n",
    "    for clip in clip_data:\n",
    "        h,m,s = clip['clip_start'].split(':')\n",
    "        secs = int(h)*3600+int(m)*60+float(s)\n",
    "        clip['clip_start_fps'] = round(secs*fps)\n",
    "        h,m,s = clip['clip_end'].split(':')\n",
    "        secs = int(h)*3600+int(m)*60+float(s)\n",
    "        clip['clip_end_fps'] = round(secs*fps)\n",
    "        temp.append([clip['clip_start_fps'], clip['clip_end_fps']])\n",
    "    # Generate list with included and excluded frames. Included frames are 1.\n",
    "    val_list = [0 for i in range(frame_scores_for_video_nonan.shape[1])]\n",
    "    try:\n",
    "        for clip in clip_data:\n",
    "            for i in range(clip['clip_start_fps'], clip['clip_end_fps']+1):\n",
    "                val_list[i] = 1\n",
    "        val_np = np.array(val_list)\n",
    "    except:\n",
    "        pass"
   ]
  },
  {
   "cell_type": "code",
   "execution_count": 84,
   "metadata": {},
   "outputs": [],
   "source": [
    "avg_frame_scores = frame_scores_for_video_nonan.mean(axis=0)\n",
    "fps = round(cv2.VideoCapture(f'../inputs/{file_id}.mp4').get(cv2.CAP_PROP_FPS))\n",
    "last = 0\n",
    "l = []\n",
    "for i,el in enumerate(list(frame_scores_for_video_nonan.mean(axis=0))):\n",
    "    if i % (fps*2) == 0:\n",
    "        d = {}\n",
    "        last = i\n",
    "        d['start'] = i\n",
    "        d['score'] = el\n",
    "        l.append(d)\n",
    "\n",
    "if last<len(avg_frame_scores):\n",
    "    l.append({'start': len(avg_frame_scores)-1, 'score': avg_frame_scores[-1]})"
   ]
  },
  {
   "cell_type": "code",
   "execution_count": 85,
   "metadata": {},
   "outputs": [
    {
     "data": {
      "text/plain": [
       "0.3604629102637071"
      ]
     },
     "execution_count": 85,
     "metadata": {},
     "output_type": "execute_result"
    }
   ],
   "source": [
    "arranged = sorted(l,key=lambda x: x['score'], reverse=True)\n",
    "selected_list = [0 for i in range(len(avg_frame_scores))]\n",
    "target_length = round((len(avg_frame_scores))*proportion)\n",
    "for selected in arranged:\n",
    "    for i in range(selected['start'],selected['start']+2*fps):\n",
    "        try:\n",
    "            selected_list[i] = 1\n",
    "        except IndexError:\n",
    "            pass\n",
    "    target_length-=2*fps\n",
    "    if target_length<0:\n",
    "        break\n",
    "f1_score(y_true=selected_list, y_pred=val_list)"
   ]
  }
 ],
 "metadata": {
  "kernelspec": {
   "display_name": "Python 3",
   "language": "python",
   "name": "python3"
  },
  "language_info": {
   "codemirror_mode": {
    "name": "ipython",
    "version": 3
   },
   "file_extension": ".py",
   "mimetype": "text/x-python",
   "name": "python",
   "nbconvert_exporter": "python",
   "pygments_lexer": "ipython3",
   "version": "3.7.6"
  }
 },
 "nbformat": 4,
 "nbformat_minor": 4
}
