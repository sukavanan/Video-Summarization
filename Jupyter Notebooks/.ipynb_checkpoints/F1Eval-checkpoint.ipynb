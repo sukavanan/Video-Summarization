{
 "cells": [
  {
   "cell_type": "code",
   "execution_count": 82,
   "metadata": {},
   "outputs": [],
   "source": [
    "import pandas as pd\n",
    "import numpy as np\n",
    "import cv2\n",
    "import json\n",
    "import matplotlib.pyplot as plt\n",
    "import matplotlib.patches as mpatches\n",
    "import glob\n",
    "from tqdm.notebook import tqdm\n",
    "import os\n",
    "from sklearn.metrics import f1_score"
   ]
  },
  {
   "cell_type": "code",
   "execution_count": 106,
   "metadata": {},
   "outputs": [],
   "source": [
    "path = '../ignored/tvsum50_ver_1_1/ydata-tvsum50-v1_1/data/ydata-tvsum50-anno.tsv'\n",
    "df = pd.read_csv(path,delimiter='\\t', header=None, names=['id','cat','scores'])\n",
    "df = df.join(df['scores'].str.split(',',expand=True).apply(pd.to_numeric))\n",
    "df = df.drop(axis=1, columns=['scores'])"
   ]
  },
  {
   "cell_type": "code",
   "execution_count": 107,
   "metadata": {},
   "outputs": [
    {
     "name": "stdout",
     "output_type": "stream",
     "text": [
      "580    PR\n",
      "581    PR\n",
      "582    PR\n",
      "583    PR\n",
      "584    PR\n",
      "585    PR\n",
      "586    PR\n",
      "587    PR\n",
      "588    PR\n",
      "589    PR\n",
      "590    PR\n",
      "591    PR\n",
      "592    PR\n",
      "593    PR\n",
      "594    PR\n",
      "595    PR\n",
      "596    PR\n",
      "597    PR\n",
      "598    PR\n",
      "599    PR\n",
      "Name: cat, dtype: object\n"
     ]
    }
   ],
   "source": [
    "print(df[df['id']==file_id]['cat'])"
   ]
  },
  {
   "cell_type": "code",
   "execution_count": 110,
   "metadata": {},
   "outputs": [],
   "source": [
    "# files = ['Bhxk-O1Y7Ho']\n",
    "# files = ['98MoyGZKHXc', 'Bhxk-O1Y7Ho', '4wU_LUjG5Ic', 'iVt07TCkFM0']\n",
    "files = []\n",
    "for file_id in glob.glob('../inputs/*'):\n",
    "    filename = file_id.split('/')[-1].split('.')[0]\n",
    "    if filename not in files:\n",
    "        files.append(filename)\n",
    "proportion = 0.2"
   ]
  },
  {
   "cell_type": "markdown",
   "metadata": {},
   "source": [
    "Get the predicted indices"
   ]
  },
  {
   "cell_type": "code",
   "execution_count": 113,
   "metadata": {},
   "outputs": [],
   "source": [
    "temp = []\n",
    "table = []\n",
    "for file_id in files:\n",
    "    frame_scores_for_video = df[df['id']==file_id].drop(axis=1, columns=['id','cat']).values\n",
    "    frame_scores_for_video_nonan = frame_scores_for_video[~np.isnan(frame_scores_for_video)]\n",
    "    frame_scores_for_video_nonan = frame_scores_for_video_nonan.reshape((20,-1))\n",
    "    \n",
    "    with open(f'../intermediate/{file_id}_clip_list.json') as f:\n",
    "        clip_data = json.load(f)\n",
    "\n",
    "    # Convert clip start time and end time to fps\n",
    "    fps = round(cv2.VideoCapture(f'../inputs/{file_id}.mp4').get(cv2.CAP_PROP_FPS))\n",
    "    for clip in clip_data:\n",
    "        h,m,s = clip['clip_start'].split(':')\n",
    "        secs = int(h)*3600+int(m)*60+float(s)\n",
    "        clip['clip_start_fps'] = round(secs*fps)\n",
    "        h,m,s = clip['clip_end'].split(':')\n",
    "        secs = int(h)*3600+int(m)*60+float(s)\n",
    "        clip['clip_end_fps'] = round(secs*fps)\n",
    "        temp.append([clip['clip_start_fps'], clip['clip_end_fps']])\n",
    "    # Generate list with included and excluded frames. Included frames are 1.\n",
    "    val_list = [0 for i in range(frame_scores_for_video_nonan.shape[1])]\n",
    "    try:\n",
    "        for clip in clip_data:\n",
    "            for i in range(clip['clip_start_fps'], clip['clip_end_fps']+1):\n",
    "                val_list[i] = 1\n",
    "        val_np = np.array(val_list)\n",
    "    except:\n",
    "        pass\n",
    "    avg_frame_scores = frame_scores_for_video_nonan.mean(axis=0)\n",
    "    fps = round(cv2.VideoCapture(f'../inputs/{file_id}.mp4').get(cv2.CAP_PROP_FPS))\n",
    "    last = 0\n",
    "    l = []\n",
    "    for i,el in enumerate(list(frame_scores_for_video_nonan.mean(axis=0))):\n",
    "        if i % (fps*2) == 0:\n",
    "            d = {}\n",
    "            last = i\n",
    "            d['start'] = i\n",
    "            d['score'] = el\n",
    "            l.append(d)\n",
    "\n",
    "    if last<len(avg_frame_scores):\n",
    "        l.append({'start': len(avg_frame_scores)-1, 'score': avg_frame_scores[-1]})\n",
    "    arranged = sorted(l,key=lambda x: x['score'], reverse=True)\n",
    "    selected_list = [0 for i in range(len(avg_frame_scores))]\n",
    "    target_length = round((len(avg_frame_scores))*proportion)\n",
    "    for selected in arranged:\n",
    "        for i in range(selected['start'],selected['start']+2*fps):\n",
    "            try:\n",
    "                selected_list[i] = 1\n",
    "            except IndexError:\n",
    "                pass\n",
    "        target_length-=2*fps\n",
    "        if target_length<0:\n",
    "            break\n",
    "    table.append({\"file_id\":file_id, \"cat\": df[df['id']==file_id]['cat'].iloc[0], \"f1\": f1_score(y_true=selected_list, y_pred=val_list)})\n",
    "    print(file_id, df[df['id']==file_id]['cat'].iloc[0], f1_score(y_true=selected_list, y_pred=val_list))"
   ]
  },
  {
   "cell_type": "code",
   "execution_count": 114,
   "metadata": {},
   "outputs": [
    {
     "data": {
      "text/plain": [
       "[{'file_id': 'vdmoEJ5YbrQ', 'cat': 'VU', 'f1': 0.319868771785934},\n",
       " {'file_id': 'HT5vyqe0Xaw', 'cat': 'VU', 'f1': 0.19548133595284872},\n",
       " {'file_id': 'eQu1rNs0an0', 'cat': 'BT', 'f1': 0.3430777716492003},\n",
       " {'file_id': 'WxtbjNsCQ8A', 'cat': 'BK', 'f1': 0.31279342723004694},\n",
       " {'file_id': '37rzWOQsNIw', 'cat': 'MS', 'f1': 0.32},\n",
       " {'file_id': 'AwmHb44_ouw', 'cat': 'VT', 'f1': 0.02862595419847328},\n",
       " {'file_id': '0tmA_C6XwfM', 'cat': 'GA', 'f1': 0.26427622841965476},\n",
       " {'file_id': 'b626MiF1ew4', 'cat': 'PK', 'f1': 0.1293219577907499},\n",
       " {'file_id': 'EYqVtI9YWJA', 'cat': 'BT', 'f1': 0.42775510204081635},\n",
       " {'file_id': 'jcoYJXDG9sw', 'cat': 'DS', 'f1': 0.09090909090909091},\n",
       " {'file_id': 'Se3oxnaPsz0', 'cat': 'BK', 'f1': 0.25810253388332355},\n",
       " {'file_id': 'qqR6AEXwxoQ', 'cat': 'BT', 'f1': 0.20888661899897856},\n",
       " {'file_id': 'Bhxk-O1Y7Ho', 'cat': 'GA', 'f1': 0.2647367316970841},\n",
       " {'file_id': 'J0nA4VgnoCo', 'cat': 'VT', 'f1': 0.15135929463629683},\n",
       " {'file_id': 'XzYM3PfTM4w', 'cat': 'VT', 'f1': 0.26704953338119164},\n",
       " {'file_id': 'E11zDS9XGzg', 'cat': 'DS', 'f1': 0.234315424610052},\n",
       " {'file_id': '3eYKfiOEJNs', 'cat': 'GA', 'f1': 0.03292568203198495},\n",
       " {'file_id': 'JgHubY5Vw3Y', 'cat': 'BT', 'f1': 0.30992196209587514},\n",
       " {'file_id': 'i3wAGJaaktw', 'cat': 'GA', 'f1': 0.3673469387755102},\n",
       " {'file_id': 'WG0MBPpPC6I', 'cat': 'MS', 'f1': 0.14965259219668625},\n",
       " {'file_id': 'Yi4Ij2NM7U4', 'cat': 'MS', 'f1': 0.29663906478324403},\n",
       " {'file_id': 'EE-bNr36nyA', 'cat': 'BK', 'f1': 0.03591836734693878},\n",
       " {'file_id': 'iVt07TCkFM0', 'cat': 'BT', 'f1': 0.46068455134135067},\n",
       " {'file_id': '98MoyGZKHXc', 'cat': 'VT', 'f1': 0.10774410774410775},\n",
       " {'file_id': 'akI8YFjEmUw', 'cat': 'VU', 'f1': 0.154320987654321},\n",
       " {'file_id': 'xwqBXPGE9pQ', 'cat': 'VU', 'f1': 0.28264758497316633},\n",
       " {'file_id': 'Hl-__g2gn_A', 'cat': 'MS', 'f1': 0.1469767441860465},\n",
       " {'file_id': '4wU_LUjG5Ic', 'cat': 'PR', 'f1': 0.20567755757900374}]"
      ]
     },
     "execution_count": 114,
     "metadata": {},
     "output_type": "execute_result"
    }
   ],
   "source": [
    "table"
   ]
  },
  {
   "cell_type": "code",
   "execution_count": null,
   "metadata": {},
   "outputs": [],
   "source": []
  }
 ],
 "metadata": {
  "kernelspec": {
   "display_name": "Python 3",
   "language": "python",
   "name": "python3"
  },
  "language_info": {
   "codemirror_mode": {
    "name": "ipython",
    "version": 3
   },
   "file_extension": ".py",
   "mimetype": "text/x-python",
   "name": "python",
   "nbconvert_exporter": "python",
   "pygments_lexer": "ipython3",
   "version": "3.7.6"
  }
 },
 "nbformat": 4,
 "nbformat_minor": 4
}
