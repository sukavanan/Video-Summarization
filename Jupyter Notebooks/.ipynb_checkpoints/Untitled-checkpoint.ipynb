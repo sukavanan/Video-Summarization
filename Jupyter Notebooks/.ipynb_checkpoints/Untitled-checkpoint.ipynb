{
 "cells": [
  {
   "cell_type": "code",
   "execution_count": 2,
   "metadata": {},
   "outputs": [],
   "source": [
    "%load_ext autoreload\n",
    "import pandas as pd\n",
    "import numpy as np\n",
    "import cv2\n",
    "import json\n",
    "import matplotlib.pyplot as plt\n",
    "import matplotlib.patches as mpatches\n",
    "import glob\n",
    "from tqdm.notebook import tqdm\n",
    "import os"
   ]
  },
  {
   "cell_type": "code",
   "execution_count": 3,
   "metadata": {},
   "outputs": [],
   "source": [
    "%autoreload 1"
   ]
  },
  {
   "cell_type": "code",
   "execution_count": 4,
   "metadata": {},
   "outputs": [],
   "source": [
    "path = '../ignored/tvsum50_ver_1_1/ydata-tvsum50-v1_1/data/ydata-tvsum50-anno.tsv'\n",
    "df = pd.read_csv(path,delimiter='\\t', header=None, names=['id','cat','scores'])\n",
    "df = df.join(df['scores'].str.split(',',expand=True).apply(pd.to_numeric))\n",
    "df = df.drop(axis=1, columns=['scores'])"
   ]
  },
  {
   "cell_type": "code",
   "execution_count": 5,
   "metadata": {},
   "outputs": [],
   "source": [
    "import sys\n",
    "sys.path.append('../src')\n",
    "%aimport evaluation"
   ]
  },
  {
   "cell_type": "code",
   "execution_count": 106,
   "metadata": {},
   "outputs": [],
   "source": [
    "files = []\n",
    "for file_id in glob.glob('../inputs/*'):\n",
    "    filename = file_id.split('/')[-1].split('.')[0]\n",
    "    if filename not in files:\n",
    "        files.append(filename)\n",
    "order = [ \"AwmHb44_ouw\", \"98MoyGZKHXc\", \"J0nA4VgnoCo\", \"gzDbaEs1Rlg\", \"XzYM3PfTM4w\", \"HT5vyqe0Xaw\", \"sTEELN-vY30\", \"vdmoEJ5YbrQ\", \"xwqBXPGE9pQ\", \"akI8YFjEmUw\", \"i3wAGJaaktw\", \"Bhxk-O1Y7Ho\", \"0tmA_C6XwfM\", \"3eYKfiOEJNs\", \"xxdtq8mxegs\", \"WG0MBPpPC6I\", \"Hl-__g2gn_A\", \"Yi4Ij2NM7U4\", \"37rzWOQsNIw\", \"LRw_obCPUt0\", \"cjibtmSLxQ4\", \"b626MiF1ew4\", \"XkqCExn6_Us\", \"GsAD1KT1xo8\", \"PJrm840pAUI\", \"91IHQYk1IQM\", \"RBCABdttQmI\", \"z_6gVvQb2d0\", \"fWutDQy1nnY\", \"4wU_LUjG5Ic\", \"VuWGsYPqAX8\", \"JKpqYvAdIsw\", \"xmEERLqJ2kU\", \"byxOvuiIJV0\", \"_xMr-HKMfVA\", \"WxtbjNsCQ8A\", \"uGu_10sucQo\", \"EE-bNr36nyA\", \"Se3oxnaPsz0\", \"oDXZc0tZe04\", \"qqR6AEXwxoQ\", \"EYqVtI9YWJA\", \"eQu1rNs0an0\", \"JgHubY5Vw3Y\", \"iVt07TCkFM0\", \"E11zDS9XGzg\", \"NyBmCxDoHJU\", \"kLxoNp-UchI\", \"jcoYJXDG9sw\", \"-esJrBWj2d8\"]\n",
    "\n",
    "files = sorted(files, key={k:v for v,k in enumerate(order)}.get)"
   ]
  },
  {
   "cell_type": "code",
   "execution_count": 118,
   "metadata": {},
   "outputs": [
    {
     "data": {
      "application/vnd.jupyter.widget-view+json": {
       "model_id": "aa7a251eb7af44e3853bd81a4d0f3dfc",
       "version_major": 2,
       "version_minor": 0
      },
      "text/plain": [
       "HBox(children=(FloatProgress(value=0.0, max=28.0), HTML(value='')))"
      ]
     },
     "metadata": {},
     "output_type": "display_data"
    },
    {
     "name": "stdout",
     "output_type": "stream",
     "text": [
      "0.2_3/AwmHb44_ouw\n",
      "0.2_3/98MoyGZKHXc\n",
      "0.2_3/J0nA4VgnoCo\n",
      "0.2_3/XzYM3PfTM4w\n",
      "0.2_3/HT5vyqe0Xaw\n",
      "0.2_3/vdmoEJ5YbrQ\n",
      "0.2_3/xwqBXPGE9pQ\n",
      "0.2_3/akI8YFjEmUw\n",
      "0.2_3/i3wAGJaaktw\n",
      "0.2_3/Bhxk-O1Y7Ho\n",
      "0.2_3/0tmA_C6XwfM\n",
      "0.2_3/3eYKfiOEJNs\n",
      "0.2_3/WG0MBPpPC6I\n",
      "0.2_3/Hl-__g2gn_A\n",
      "0.2_3/Yi4Ij2NM7U4\n",
      "0.2_3/37rzWOQsNIw\n",
      "0.2_3/b626MiF1ew4\n",
      "0.2_3/4wU_LUjG5Ic\n",
      "0.2_3/WxtbjNsCQ8A\n",
      "0.2_3/EE-bNr36nyA\n",
      "0.2_3/Se3oxnaPsz0\n",
      "0.2_3/qqR6AEXwxoQ\n",
      "0.2_3/EYqVtI9YWJA\n",
      "0.2_3/eQu1rNs0an0\n",
      "0.2_3/JgHubY5Vw3Y\n",
      "0.2_3/iVt07TCkFM0\n",
      "0.2_3/E11zDS9XGzg\n",
      "0.2_3/jcoYJXDG9sw\n",
      "\n"
     ]
    },
    {
     "data": {
      "text/plain": [
       "<Figure size 432x288 with 0 Axes>"
      ]
     },
     "metadata": {},
     "output_type": "display_data"
    }
   ],
   "source": [
    "all_val_list = []\n",
    "clip_fps = []\n",
    "for file_id in tqdm(files):\n",
    "    frame_scores_for_video = df[df['id']==file_id].drop(axis=1, columns=['id','cat']).values\n",
    "    frame_scores_for_video_nonan = frame_scores_for_video[~np.isnan(frame_scores_for_video)]\n",
    "    frame_scores_for_video_nonan = frame_scores_for_video_nonan.reshape((20,-1))\n",
    "    temp = []\n",
    "    if file_id in files:\n",
    "        with open(f'../intermediate/{file_id}_clip_list.json') as f:\n",
    "            clip_data = json.load(f)\n",
    "\n",
    "        # Convert clip start time and end time to fps\n",
    "        fps = round(cv2.VideoCapture(f'../inputs/{file_id}.mp4').get(cv2.CAP_PROP_FPS))\n",
    "        for clip in clip_data:\n",
    "            h,m,s = clip['clip_start'].split(':')\n",
    "            secs = int(h)*3600+int(m)*60+float(s)\n",
    "            clip['clip_start_fps'] = round(secs*fps)\n",
    "            h,m,s = clip['clip_end'].split(':')\n",
    "            secs = int(h)*3600+int(m)*60+float(s)\n",
    "            clip['clip_end_fps'] = round(secs*fps)\n",
    "            temp.append([clip['clip_start_fps'], clip['clip_end_fps']])\n",
    "        # Generate list with included and excluded frames. Included frames are 1.\n",
    "        val_list = [0 for i in range(frame_scores_for_video_nonan.shape[1])]\n",
    "        try:\n",
    "            for clip in clip_data:\n",
    "                for i in range(clip['clip_start_fps'], clip['clip_end_fps']+1):\n",
    "                    val_list[i] = 1\n",
    "            val_np = np.array(val_list)\n",
    "        except:\n",
    "            pass\n",
    "        \n",
    "    elif file_id in order:\n",
    "        print(file_id)\n",
    "        val_list = [0 for i in range(frame_scores_for_video_nonan.shape[1])]\n",
    "        temp.append([])\n",
    "    all_val_list.append(val_list)\n",
    "    clip_fps.append(temp)\n",
    "#     for clip in clip_data:\n",
    "#         print(clip['clip_start_fps'], clip['clip_end_fps'])\n",
    "\n",
    "    # Plot the average score graph\n",
    "    plt.plot(frame_scores_for_video_nonan.mean(axis=0))\n",
    "    \n",
    "    # Plot the regions of the selected frames\n",
    "    for i in range(len(val_list)):\n",
    "        if val_list[i] == 1:\n",
    "            plt.axvspan(i,i+1,facecolor='b', alpha=0.5)\n",
    "\n",
    "    # Plot labels and axes setup\n",
    "    plt.xlabel('Frame Number')\n",
    "    plt.ylabel('Average Score over 20 evaluations')\n",
    "#     blue_patch = mpatches.Patch(color='blue', alpha=0.5, label='Selected in Summary')\n",
    "#     plt.legend(['Avg. Importance Score'], handles=[blue_patch])\n",
    "    plt.legend(['Avg. Importance Score','Selected in Summary'], loc=1)\n",
    "    # Create directories and save\n",
    "    if not os.path.exists(f\"../outputs/{evaluation.proportion}_{evaluation.flexibility}/\"):\n",
    "        os.makedirs(f\"../outputs/{evaluation.proportion}_{evaluation.flexibility}/\")\n",
    "    print(f\"{evaluation.proportion}_{evaluation.flexibility}/{file_id}\")\n",
    "    plt.savefig(f\"../outputs/{evaluation.proportion}_{evaluation.flexibility}/{file_id}.png\", dpi=300)\n",
    "#     plt.show()\n",
    "    plt.clf()"
   ]
  },
  {
   "cell_type": "code",
   "execution_count": 91,
   "metadata": {},
   "outputs": [],
   "source": [
    "clip_fps_data = np.array([np.array(i) for i in clip_fps])\n"
   ]
  },
  {
   "cell_type": "code",
   "execution_count": 93,
   "metadata": {},
   "outputs": [],
   "source": [
    "from scipy.io import savemat\n",
    "array = np.array([np.array(i, dtype=float) for i in all_val_list])\n",
    "savemat('shots.mat', {\"shot_boun\": clip_fps_data})"
   ]
  },
  {
   "cell_type": "code",
   "execution_count": 131,
   "metadata": {},
   "outputs": [
    {
     "name": "stdout",
     "output_type": "stream",
     "text": [
      "EE-bNr36nyA 1\n",
      "EE-bNr36nyA 0\n",
      "EE-bNr36nyA 7\n",
      "EE-bNr36nyA 6\n",
      "EE-bNr36nyA 5\n",
      "EE-bNr36nyA 9\n",
      "EE-bNr36nyA 8\n",
      "EE-bNr36nyA 4\n",
      "EE-bNr36nyA 10\n",
      "EE-bNr36nyA 3\n",
      "EE-bNr36nyA 2\n"
     ]
    },
    {
     "data": {
      "text/plain": [
       "<Figure size 432x288 with 0 Axes>"
      ]
     },
     "metadata": {},
     "output_type": "display_data"
    }
   ],
   "source": [
    "# Generate graphs by varying the flexibility parameter.\n",
    "\n",
    "clips = glob.glob('../outputs/varyf/*_clip_list*.json')\n",
    "for i in clips:\n",
    "    file_id = i.split('/')[-1].split('.')[0].split('_')[0]\n",
    "    f = int(i.split('/')[-1].split('.')[0].split('_')[-1])\n",
    "    print(video,f)\n",
    "    frame_scores_for_video = df[df['id']==file_id].drop(axis=1, columns=['id','cat']).values\n",
    "    frame_scores_for_video_nonan = frame_scores_for_video[~np.isnan(frame_scores_for_video)]\n",
    "    frame_scores_for_video_nonan = frame_scores_for_video_nonan.reshape((20,-1))\n",
    "    temp = []\n",
    "    with open(f'../outputs/varyf/{file_id}_clip_list_{f}.json') as fil:\n",
    "        clip_data = json.load(fil)\n",
    "\n",
    "    # Convert clip start time and end time to fps\n",
    "    fps = round(cv2.VideoCapture(f'../inputs/{file_id}.mp4').get(cv2.CAP_PROP_FPS))\n",
    "    for clip in clip_data:\n",
    "        h,m,s = clip['clip_start'].split(':')\n",
    "        secs = int(h)*3600+int(m)*60+float(s)\n",
    "        clip['clip_start_fps'] = round(secs*fps)\n",
    "        h,m,s = clip['clip_end'].split(':')\n",
    "        secs = int(h)*3600+int(m)*60+float(s)\n",
    "        clip['clip_end_fps'] = round(secs*fps)\n",
    "        temp.append([clip['clip_start_fps'], clip['clip_end_fps']])\n",
    "    # Generate list with included and excluded frames. Included frames are 1.\n",
    "    val_list = [0 for i in range(frame_scores_for_video_nonan.shape[1])]\n",
    "    try:\n",
    "        for clip in clip_data:\n",
    "            for i in range(clip['clip_start_fps'], clip['clip_end_fps']+1):\n",
    "                val_list[i] = 1\n",
    "        val_np = np.array(val_list)\n",
    "    except:\n",
    "        pass\n",
    "    \n",
    "#     for clip in clip_data:\n",
    "#         print(clip['clip_start_fps'], clip['clip_end_fps'])\n",
    "\n",
    "    # Plot the average score graph\n",
    "    plt.plot(frame_scores_for_video_nonan.mean(axis=0))\n",
    "    \n",
    "    # Plot the regions of the selected frames\n",
    "    for i in range(len(val_list)):\n",
    "        if val_list[i] == 1:\n",
    "            plt.axvspan(i,i+1,facecolor='b', alpha=0.5)\n",
    "\n",
    "    # Plot labels and axes setup\n",
    "    plt.xlabel('Frame Number')\n",
    "    plt.ylabel('Average Score over 20 evaluations')\n",
    "#     blue_patch = mpatches.Patch(color='blue', alpha=0.5, label='Selected in Summary')\n",
    "#     plt.legend(['Avg. Importance Score'], handles=[blue_patch])\n",
    "    plt.legend(['Avg. Importance Score','Selected in Summary'], loc=1)\n",
    "    # Create directories and save\n",
    "    plt.savefig(f\"../outputs/varyf/{file_id}_{f}.png\", dpi=300)\n",
    "#     plt.show()\n",
    "    plt.clf()\n",
    "    "
   ]
  }
 ],
 "metadata": {
  "kernelspec": {
   "display_name": "Python 3",
   "language": "python",
   "name": "python3"
  },
  "language_info": {
   "codemirror_mode": {
    "name": "ipython",
    "version": 3
   },
   "file_extension": ".py",
   "mimetype": "text/x-python",
   "name": "python",
   "nbconvert_exporter": "python",
   "pygments_lexer": "ipython3",
   "version": "3.7.6"
  }
 },
 "nbformat": 4,
 "nbformat_minor": 4
}
