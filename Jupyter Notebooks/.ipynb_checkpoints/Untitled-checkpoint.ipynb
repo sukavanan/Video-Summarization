{
 "cells": [
  {
   "cell_type": "code",
   "execution_count": 10,
   "metadata": {},
   "outputs": [
    {
     "name": "stdout",
     "output_type": "stream",
     "text": [
      "The autoreload extension is already loaded. To reload it, use:\n",
      "  %reload_ext autoreload\n"
     ]
    }
   ],
   "source": [
    "%load_ext autoreload\n",
    "import pandas as pd\n",
    "import numpy as np\n",
    "import cv2\n",
    "import json\n",
    "import matplotlib.pyplot as plt\n",
    "import matplotlib.patches as mpatches\n",
    "import glob\n",
    "from tqdm.notebook import tqdm\n",
    "import os"
   ]
  },
  {
   "cell_type": "code",
   "execution_count": 2,
   "metadata": {},
   "outputs": [],
   "source": [
    "%autoreload 1"
   ]
  },
  {
   "cell_type": "code",
   "execution_count": 3,
   "metadata": {},
   "outputs": [],
   "source": [
    "path = '../ignored/tvsum50_ver_1_1/ydata-tvsum50-v1_1/data/ydata-tvsum50-anno.tsv'\n",
    "df = pd.read_csv(path,delimiter='\\t', header=None, names=['id','cat','scores'])\n",
    "df = df.join(df['scores'].str.split(',',expand=True).apply(pd.to_numeric))\n",
    "df = df.drop(axis=1, columns=['scores'])"
   ]
  },
  {
   "cell_type": "code",
   "execution_count": 11,
   "metadata": {},
   "outputs": [],
   "source": [
    "import sys\n",
    "sys.path.append('../src')\n",
    "%aimport evaluation"
   ]
  },
  {
   "cell_type": "code",
   "execution_count": 40,
   "metadata": {},
   "outputs": [],
   "source": [
    "files = []\n",
    "for file_id in glob.glob('../inputs/*'):\n",
    "    filename = file_id.split('/')[-1].split('.')[0]\n",
    "    if filename not in files:\n",
    "        files.append(filename)\n",
    "order = [ \"AwmHb44_ouw\", \"98MoyGZKHXc\", \"J0nA4VgnoCo\", \"gzDbaEs1Rlg\", \"XzYM3PfTM4w\", \"HT5vyqe0Xaw\", \"sTEELN-vY30\", \"vdmoEJ5YbrQ\", \"xwqBXPGE9pQ\", \"akI8YFjEmUw\", \"i3wAGJaaktw\", \"Bhxk-O1Y7Ho\", \"0tmA_C6XwfM\", \"3eYKfiOEJNs\", \"xxdtq8mxegs\", \"WG0MBPpPC6I\", \"Hl-__g2gn_A\", \"Yi4Ij2NM7U4\", \"37rzWOQsNIw\", \"LRw_obCPUt0\", \"cjibtmSLxQ4\", \"b626MiF1ew4\", \"XkqCExn6_Us\", \"GsAD1KT1xo8\", \"PJrm840pAUI\", \"91IHQYk1IQM\", \"RBCABdttQmI\", \"z_6gVvQb2d0\", \"fWutDQy1nnY\", \"4wU_LUjG5Ic\", \"VuWGsYPqAX8\", \"JKpqYvAdIsw\", \"xmEERLqJ2kU\", \"byxOvuiIJV0\", \"_xMr-HKMfVA\", \"WxtbjNsCQ8A\", \"uGu_10sucQo\", \"EE-bNr36nyA\", \"Se3oxnaPsz0\", \"oDXZc0tZe04\", \"qqR6AEXwxoQ\", \"EYqVtI9YWJA\", \"eQu1rNs0an0\", \"JgHubY5Vw3Y\", \"iVt07TCkFM0\", \"E11zDS9XGzg\", \"NyBmCxDoHJU\", \"kLxoNp-UchI\", \"jcoYJXDG9sw\", \"-esJrBWj2d8\"]\n",
    "\n",
    "files = sorted(files, key={k:v for v,k in enumerate(order)}.get)"
   ]
  },
  {
   "cell_type": "code",
   "execution_count": 83,
   "metadata": {},
   "outputs": [
    {
     "data": {
      "application/vnd.jupyter.widget-view+json": {
       "model_id": "2fa11176d2f7461baab4602c233bb3c4",
       "version_major": 2,
       "version_minor": 0
      },
      "text/plain": [
       "HBox(children=(FloatProgress(value=0.0, max=50.0), HTML(value='')))"
      ]
     },
     "metadata": {},
     "output_type": "display_data"
    },
    {
     "name": "stdout",
     "output_type": "stream",
     "text": [
      "gzDbaEs1Rlg\n",
      "sTEELN-vY30\n",
      "xxdtq8mxegs\n",
      "LRw_obCPUt0\n",
      "cjibtmSLxQ4\n",
      "XkqCExn6_Us\n",
      "GsAD1KT1xo8\n",
      "PJrm840pAUI\n",
      "91IHQYk1IQM\n",
      "RBCABdttQmI\n",
      "z_6gVvQb2d0\n",
      "fWutDQy1nnY\n",
      "VuWGsYPqAX8\n",
      "JKpqYvAdIsw\n",
      "xmEERLqJ2kU\n",
      "byxOvuiIJV0\n",
      "_xMr-HKMfVA\n",
      "uGu_10sucQo\n",
      "oDXZc0tZe04\n",
      "NyBmCxDoHJU\n",
      "kLxoNp-UchI\n",
      "-esJrBWj2d8\n",
      "\n"
     ]
    }
   ],
   "source": [
    "all_val_list = []\n",
    "clip_fps = []\n",
    "for file_id in tqdm(order):\n",
    "    frame_scores_for_video = df[df['id']==file_id].drop(axis=1, columns=['id','cat']).values\n",
    "    frame_scores_for_video_nonan = frame_scores_for_video[~np.isnan(frame_scores_for_video)]\n",
    "    frame_scores_for_video_nonan = frame_scores_for_video_nonan.reshape((20,-1))\n",
    "    temp = []\n",
    "    if file_id in files:\n",
    "        with open(f'../intermediate/{file_id}_clip_list.json') as f:\n",
    "            clip_data = json.load(f)\n",
    "\n",
    "        # Convert clip start time and end time to fps\n",
    "        fps = round(cv2.VideoCapture(f'../inputs/{file_id}.mp4').get(cv2.CAP_PROP_FPS))\n",
    "        for clip in clip_data:\n",
    "            h,m,s = clip['clip_start'].split(':')\n",
    "            secs = int(h)*3600+int(m)*60+float(s)\n",
    "            clip['clip_start_fps'] = round(secs*fps)\n",
    "            h,m,s = clip['clip_end'].split(':')\n",
    "            secs = int(h)*3600+int(m)*60+float(s)\n",
    "            clip['clip_end_fps'] = round(secs*fps)\n",
    "            temp.append([clip['clip_start_fps'], clip['clip_end_fps']])\n",
    "        # Generate list with included and excluded frames. Included frames are 1.\n",
    "        val_list = [0 for i in range(frame_scores_for_video_nonan.shape[1])]\n",
    "        try:\n",
    "            for clip in clip_data:\n",
    "                for i in range(clip['clip_start_fps'], clip['clip_end_fps']+1):\n",
    "                    val_list[i] = 1\n",
    "            val_np = np.array(val_list)\n",
    "        except:\n",
    "            pass\n",
    "        \n",
    "    elif file_id in order:\n",
    "        print(file_id)\n",
    "        val_list = [0 for i in range(frame_scores_for_video_nonan.shape[1])]\n",
    "\n",
    "    all_val_list.append(val_list)\n",
    "    \n",
    "    \n",
    "    for clip in clip_data:\n",
    "        \n",
    "    clip_fps.append(temp)\n",
    "#     for clip in clip_data:\n",
    "#         print(clip['clip_start_fps'], clip['clip_end_fps'])\n",
    "\n",
    "#     # Plot the average score graph\n",
    "#     plt.plot(frame_scores_for_video_nonan.mean(axis=0))\n",
    "    \n",
    "#     # Plot the regions of the selected frames\n",
    "#     for i in range(len(val_list)):\n",
    "#         if val_list[i] == 1:\n",
    "#             plt.axvspan(i,i+1,facecolor='b', alpha=0.5)\n",
    "\n",
    "#     # Plot labels and axes setup\n",
    "#     plt.xlabel('Frame Number')\n",
    "#     plt.ylabel('Average Score over 20 evaluations')\n",
    "#     red_patch = mpatches.Patch(color='blue', alpha=0.5, label='Selected in Summary')\n",
    "#     plt.legend(handles=[red_patch])\n",
    "\n",
    "#     # Create directories and save\n",
    "#     if not os.path.exists(f\"../outputs/{evaluation.proportion}_{evaluation.flexibility}/\"):\n",
    "#         os.makedirs(f\"../outputs/{evaluation.proportion}_{evaluation.flexibility}/\")\n",
    "#     print(f\"{evaluation.proportion}_{evaluation.flexibility}/{file_id}\")\n",
    "#     plt.savefig(f\"../outputs/{evaluation.proportion}_{evaluation.flexibility}/{file_id}.png\", dpi=300)\n",
    "#     plt.clf()"
   ]
  },
  {
   "cell_type": "code",
   "execution_count": 88,
   "metadata": {},
   "outputs": [],
   "source": [
    "clip_fps_data = np.array([np.array(i) for i in clip_fps])\n"
   ]
  },
  {
   "cell_type": "code",
   "execution_count": 89,
   "metadata": {},
   "outputs": [],
   "source": [
    "from scipy.io import savemat\n",
    "array = np.array([np.array(i, dtype=float) for i in all_val_list])\n",
    "savemat('shots.mat', {\"shot_boun\": clip_fps_data})"
   ]
  },
  {
   "cell_type": "code",
   "execution_count": 75,
   "metadata": {},
   "outputs": [
    {
     "data": {
      "text/plain": [
       "array([0., 0., 0., ..., 0., 0., 0.])"
      ]
     },
     "execution_count": 75,
     "metadata": {},
     "output_type": "execute_result"
    }
   ],
   "source": []
  },
  {
   "cell_type": "code",
   "execution_count": 77,
   "metadata": {},
   "outputs": [
    {
     "name": "stdout",
     "output_type": "stream",
     "text": [
      "1 AwmHb44_ouw\n",
      "2 98MoyGZKHXc\n",
      "3 J0nA4VgnoCo\n",
      "4 gzDbaEs1Rlg\n",
      "5 XzYM3PfTM4w\n",
      "6 HT5vyqe0Xaw\n",
      "7 sTEELN-vY30\n",
      "8 vdmoEJ5YbrQ\n",
      "9 xwqBXPGE9pQ\n",
      "10 akI8YFjEmUw\n",
      "11 i3wAGJaaktw\n",
      "12 Bhxk-O1Y7Ho\n",
      "13 0tmA_C6XwfM\n",
      "14 3eYKfiOEJNs\n",
      "15 xxdtq8mxegs\n",
      "16 WG0MBPpPC6I\n",
      "17 Hl-__g2gn_A\n",
      "18 Yi4Ij2NM7U4\n",
      "19 37rzWOQsNIw\n",
      "20 LRw_obCPUt0\n",
      "21 cjibtmSLxQ4\n",
      "22 b626MiF1ew4\n",
      "23 XkqCExn6_Us\n",
      "24 GsAD1KT1xo8\n",
      "25 PJrm840pAUI\n",
      "26 91IHQYk1IQM\n",
      "27 RBCABdttQmI\n",
      "28 z_6gVvQb2d0\n",
      "29 fWutDQy1nnY\n",
      "30 4wU_LUjG5Ic\n",
      "31 VuWGsYPqAX8\n",
      "32 JKpqYvAdIsw\n",
      "33 xmEERLqJ2kU\n",
      "34 byxOvuiIJV0\n",
      "35 _xMr-HKMfVA\n",
      "36 WxtbjNsCQ8A\n",
      "37 uGu_10sucQo\n",
      "38 EE-bNr36nyA\n",
      "39 Se3oxnaPsz0\n",
      "40 oDXZc0tZe04\n",
      "41 qqR6AEXwxoQ\n",
      "42 EYqVtI9YWJA\n",
      "43 eQu1rNs0an0\n",
      "44 JgHubY5Vw3Y\n",
      "45 iVt07TCkFM0\n",
      "46 E11zDS9XGzg\n",
      "47 NyBmCxDoHJU\n",
      "48 kLxoNp-UchI\n",
      "49 jcoYJXDG9sw\n",
      "50 -esJrBWj2d8\n"
     ]
    }
   ],
   "source": [
    "for idx,i in enumerate(order):\n",
    "    print(idx+1,i)"
   ]
  },
  {
   "cell_type": "code",
   "execution_count": 81,
   "metadata": {},
   "outputs": [
    {
     "name": "stdout",
     "output_type": "stream",
     "text": [
      "[\n",
      "\"AwmHb44_ouw\" \"98MoyGZKHXc\" \"J0nA4VgnoCo\" \"XzYM3PfTM4w\" \"HT5vyqe0Xaw\" \"vdmoEJ5YbrQ\" \"xwqBXPGE9pQ\" \"akI8YFjEmUw\" \"i3wAGJaaktw\" \"Bhxk-O1Y7Ho\" \"0tmA_C6XwfM\" \"3eYKfiOEJNs\" \"WG0MBPpPC6I\" \"Hl-__g2gn_A\" \"Yi4Ij2NM7U4\" \"37rzWOQsNIw\" \"b626MiF1ew4\" \"4wU_LUjG5Ic\" \"WxtbjNsCQ8A\" \"EE-bNr36nyA\" \"Se3oxnaPsz0\" \"qqR6AEXwxoQ\" \"EYqVtI9YWJA\" \"eQu1rNs0an0\" \"JgHubY5Vw3Y\" \"iVt07TCkFM0\" \"E11zDS9XGzg\" \"jcoYJXDG9sw\" ]\n"
     ]
    }
   ],
   "source": [
    "files\n",
    "print('[')\n",
    "for i in files:\n",
    "    print(f\"\\\"{i}\\\"\", end=' ')\n",
    "print(']')"
   ]
  },
  {
   "cell_type": "code",
   "execution_count": null,
   "metadata": {},
   "outputs": [],
   "source": []
  }
 ],
 "metadata": {
  "kernelspec": {
   "display_name": "Python 3",
   "language": "python",
   "name": "python3"
  },
  "language_info": {
   "codemirror_mode": {
    "name": "ipython",
    "version": 3
   },
   "file_extension": ".py",
   "mimetype": "text/x-python",
   "name": "python",
   "nbconvert_exporter": "python",
   "pygments_lexer": "ipython3",
   "version": "3.7.6"
  }
 },
 "nbformat": 4,
 "nbformat_minor": 4
}
